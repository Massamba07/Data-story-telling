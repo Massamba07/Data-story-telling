{
 "cells": [
  {
   "cell_type": "code",
   "execution_count": 5,
   "id": "022fa47a-1f1b-47e7-9424-00fd59326812",
   "metadata": {},
   "outputs": [],
   "source": [
    "import pandas as pd\n",
    "from sklearn.preprocessing import MinMaxScaler"
   ]
  },
  {
   "cell_type": "code",
   "execution_count": 50,
   "id": "00f70e53-fe8b-4f9a-bfca-114d3d10d8d2",
   "metadata": {},
   "outputs": [],
   "source": [
    "def minimaxit(dk, data, col):\n",
    "    scaler = MinMaxScaler()\n",
    "    scaler.fit(data)\n",
    "    dk.loc[dk[\"Produit\"]==col, \"norm_price\"] = scaler.transform(data)"
   ]
  },
  {
   "cell_type": "code",
   "execution_count": 3,
   "id": "6d553c45-7b5e-4bde-be6c-5e6147c93905",
   "metadata": {},
   "outputs": [
    {
     "data": {
      "text/html": [
       "<div><div id=8febb240-37b6-4bef-bc1d-c5a07ee47b26 style=\"display:none; background-color:#9D6CFF; color:white; width:200px; height:30px; padding-left:5px; border-radius:4px; flex-direction:row; justify-content:space-around; align-items:center;\" onmouseover=\"this.style.backgroundColor='#BA9BF8'\" onmouseout=\"this.style.backgroundColor='#9D6CFF'\" onclick=\"window.commands?.execute('create-mitosheet-from-dataframe-output');\">See Full Dataframe in Mito</div> <script> if (window.commands?.hasCommand('create-mitosheet-from-dataframe-output')) document.getElementById('8febb240-37b6-4bef-bc1d-c5a07ee47b26').style.display = 'flex' </script> <table border=\"1\" class=\"dataframe\">\n",
       "  <thead>\n",
       "    <tr style=\"text-align: right;\">\n",
       "      <th></th>\n",
       "      <th>Unnamed: 0</th>\n",
       "      <th>Country</th>\n",
       "      <th>ISO3</th>\n",
       "      <th>Produit</th>\n",
       "      <th>Baseline (14-Feb-2020)</th>\n",
       "      <th>Price (Latest date)</th>\n",
       "      <th>Variation</th>\n",
       "      <th>Currency</th>\n",
       "      <th>Range</th>\n",
       "      <th>Latest date</th>\n",
       "    </tr>\n",
       "  </thead>\n",
       "  <tbody>\n",
       "    <tr>\n",
       "      <th>0</th>\n",
       "      <td>0</td>\n",
       "      <td>Togo</td>\n",
       "      <td>TGO</td>\n",
       "      <td>Fruit et Légume</td>\n",
       "      <td>1502.14</td>\n",
       "      <td>1502.14</td>\n",
       "      <td>0.00</td>\n",
       "      <td>CFA</td>\n",
       "      <td>997.05-2000.67</td>\n",
       "      <td>2020-02-09</td>\n",
       "    </tr>\n",
       "    <tr>\n",
       "      <th>1</th>\n",
       "      <td>1</td>\n",
       "      <td>Bhutan</td>\n",
       "      <td>BTN</td>\n",
       "      <td>Fruit et Légume</td>\n",
       "      <td>234.11</td>\n",
       "      <td>234.11</td>\n",
       "      <td>0.00</td>\n",
       "      <td>₹</td>\n",
       "      <td>200.77-250.39</td>\n",
       "      <td>2020-02-09</td>\n",
       "    </tr>\n",
       "    <tr>\n",
       "      <th>2</th>\n",
       "      <td>2</td>\n",
       "      <td>Angola</td>\n",
       "      <td>AGO</td>\n",
       "      <td>Fruit et Légume</td>\n",
       "      <td>4.07</td>\n",
       "      <td>4.07</td>\n",
       "      <td>0.00</td>\n",
       "      <td>$</td>\n",
       "      <td>4-4.14</td>\n",
       "      <td>2020-02-09</td>\n",
       "    </tr>\n",
       "    <tr>\n",
       "      <th>3</th>\n",
       "      <td>3</td>\n",
       "      <td>Aruba</td>\n",
       "      <td>ABW</td>\n",
       "      <td>Fruit et Légume</td>\n",
       "      <td>4.83</td>\n",
       "      <td>4.83</td>\n",
       "      <td>0.00</td>\n",
       "      <td>$</td>\n",
       "      <td>3.36-7.99</td>\n",
       "      <td>2020-02-09</td>\n",
       "    </tr>\n",
       "    <tr>\n",
       "      <th>4</th>\n",
       "      <td>4</td>\n",
       "      <td>Afghanistan</td>\n",
       "      <td>AFG</td>\n",
       "      <td>Fruit et Légume</td>\n",
       "      <td>66.22</td>\n",
       "      <td>66.22</td>\n",
       "      <td>0.00</td>\n",
       "      <td>AFN</td>\n",
       "      <td>50.3-79.63</td>\n",
       "      <td>2020-02-09</td>\n",
       "    </tr>\n",
       "    <tr>\n",
       "      <th>...</th>\n",
       "      <td>...</td>\n",
       "      <td>...</td>\n",
       "      <td>...</td>\n",
       "      <td>...</td>\n",
       "      <td>...</td>\n",
       "      <td>...</td>\n",
       "      <td>...</td>\n",
       "      <td>...</td>\n",
       "      <td>...</td>\n",
       "      <td>...</td>\n",
       "    </tr>\n",
       "    <tr>\n",
       "      <th>27729</th>\n",
       "      <td>27729</td>\n",
       "      <td>Vanuatu</td>\n",
       "      <td>VUT</td>\n",
       "      <td>Fruit et Légume</td>\n",
       "      <td>349.68</td>\n",
       "      <td>516.71</td>\n",
       "      <td>47.77</td>\n",
       "      <td>VT</td>\n",
       "      <td>470-550.01</td>\n",
       "      <td>2022-12-04</td>\n",
       "    </tr>\n",
       "    <tr>\n",
       "      <th>27730</th>\n",
       "      <td>27730</td>\n",
       "      <td>Yemen</td>\n",
       "      <td>YEM</td>\n",
       "      <td>Fruit et Légume</td>\n",
       "      <td>816.74</td>\n",
       "      <td>1410.52</td>\n",
       "      <td>72.70</td>\n",
       "      <td>﷼</td>\n",
       "      <td>500.01-2499.99</td>\n",
       "      <td>2022-12-04</td>\n",
       "    </tr>\n",
       "    <tr>\n",
       "      <th>27731</th>\n",
       "      <td>27731</td>\n",
       "      <td>South Africa</td>\n",
       "      <td>ZAF</td>\n",
       "      <td>Fruit et Légume</td>\n",
       "      <td>22.27</td>\n",
       "      <td>24.56</td>\n",
       "      <td>10.30</td>\n",
       "      <td>R</td>\n",
       "      <td>14-35.01</td>\n",
       "      <td>2022-12-04</td>\n",
       "    </tr>\n",
       "    <tr>\n",
       "      <th>27732</th>\n",
       "      <td>27732</td>\n",
       "      <td>Zambia</td>\n",
       "      <td>ZMB</td>\n",
       "      <td>Fruit et Légume</td>\n",
       "      <td>22.63</td>\n",
       "      <td>2.47</td>\n",
       "      <td>-89.09</td>\n",
       "      <td>$</td>\n",
       "      <td>0.88-3.11</td>\n",
       "      <td>2022-12-04</td>\n",
       "    </tr>\n",
       "    <tr>\n",
       "      <th>27733</th>\n",
       "      <td>27733</td>\n",
       "      <td>Zimbabwe</td>\n",
       "      <td>ZWE</td>\n",
       "      <td>Fruit et Légume</td>\n",
       "      <td>3.75</td>\n",
       "      <td>2.91</td>\n",
       "      <td>-22.40</td>\n",
       "      <td>$</td>\n",
       "      <td>0.99-5</td>\n",
       "      <td>2022-12-04</td>\n",
       "    </tr>\n",
       "  </tbody>\n",
       "</table></div>"
      ],
      "text/plain": [
       "       Unnamed: 0       Country ISO3          Produit  Baseline (14-Feb-2020)  \\\n",
       "0               0          Togo  TGO  Fruit et Légume                 1502.14   \n",
       "1               1        Bhutan  BTN  Fruit et Légume                  234.11   \n",
       "2               2        Angola  AGO  Fruit et Légume                    4.07   \n",
       "3               3         Aruba  ABW  Fruit et Légume                    4.83   \n",
       "4               4   Afghanistan  AFG  Fruit et Légume                   66.22   \n",
       "...           ...           ...  ...              ...                     ...   \n",
       "27729       27729       Vanuatu  VUT  Fruit et Légume                  349.68   \n",
       "27730       27730         Yemen  YEM  Fruit et Légume                  816.74   \n",
       "27731       27731  South Africa  ZAF  Fruit et Légume                   22.27   \n",
       "27732       27732        Zambia  ZMB  Fruit et Légume                   22.63   \n",
       "27733       27733      Zimbabwe  ZWE  Fruit et Légume                    3.75   \n",
       "\n",
       "       Price (Latest date)  Variation Currency           Range Latest date  \n",
       "0                  1502.14       0.00      CFA  997.05-2000.67  2020-02-09  \n",
       "1                   234.11       0.00        ₹   200.77-250.39  2020-02-09  \n",
       "2                     4.07       0.00        $          4-4.14  2020-02-09  \n",
       "3                     4.83       0.00        $       3.36-7.99  2020-02-09  \n",
       "4                    66.22       0.00      AFN      50.3-79.63  2020-02-09  \n",
       "...                    ...        ...      ...             ...         ...  \n",
       "27729               516.71      47.77       VT      470-550.01  2022-12-04  \n",
       "27730              1410.52      72.70        ﷼  500.01-2499.99  2022-12-04  \n",
       "27731                24.56      10.30        R        14-35.01  2022-12-04  \n",
       "27732                 2.47     -89.09        $       0.88-3.11  2022-12-04  \n",
       "27733                 2.91     -22.40        $          0.99-5  2022-12-04  \n",
       "\n",
       "[27734 rows x 10 columns]"
      ]
     },
     "execution_count": 3,
     "metadata": {},
     "output_type": "execute_result"
    }
   ],
   "source": [
    "df = pd.read_csv(\"Food_Prices.csv\")\n",
    "df"
   ]
  },
  {
   "cell_type": "code",
   "execution_count": 6,
   "id": "c91cc8e2-4b05-4371-ac55-1fef8165576c",
   "metadata": {},
   "outputs": [],
   "source": [
    "df[\"Année\"] = df[\"Latest date\"].str.split(\"-\", expand=True)[0]\n",
    "df[\"Mois\"] = df[\"Latest date\"].str.split(\"-\", expand=True)[1]"
   ]
  },
  {
   "cell_type": "code",
   "execution_count": 8,
   "id": "e1bae10a-351b-4551-8fce-143ca6a0d371",
   "metadata": {},
   "outputs": [],
   "source": [
    "df = df[[\"Produit\", \"Baseline (14-Feb-2020)\", \"Price (Latest date)\", \"Variation\", \"Année\", \"Mois\"]]"
   ]
  },
  {
   "cell_type": "code",
   "execution_count": 9,
   "id": "b8a47667-b413-4c2a-9042-de912c22c2ef",
   "metadata": {},
   "outputs": [
    {
     "data": {
      "text/html": [
       "<div><div id=9005d4fa-2246-4038-8457-3602c6723d16 style=\"display:none; background-color:#9D6CFF; color:white; width:200px; height:30px; padding-left:5px; border-radius:4px; flex-direction:row; justify-content:space-around; align-items:center;\" onmouseover=\"this.style.backgroundColor='#BA9BF8'\" onmouseout=\"this.style.backgroundColor='#9D6CFF'\" onclick=\"window.commands?.execute('create-mitosheet-from-dataframe-output');\">See Full Dataframe in Mito</div> <script> if (window.commands?.hasCommand('create-mitosheet-from-dataframe-output')) document.getElementById('9005d4fa-2246-4038-8457-3602c6723d16').style.display = 'flex' </script> <table border=\"1\" class=\"dataframe\">\n",
       "  <thead>\n",
       "    <tr style=\"text-align: right;\">\n",
       "      <th></th>\n",
       "      <th>Produit</th>\n",
       "      <th>Baseline (14-Feb-2020)</th>\n",
       "      <th>Price (Latest date)</th>\n",
       "      <th>Variation</th>\n",
       "      <th>Année</th>\n",
       "      <th>Mois</th>\n",
       "    </tr>\n",
       "  </thead>\n",
       "  <tbody>\n",
       "    <tr>\n",
       "      <th>0</th>\n",
       "      <td>Fruit et Légume</td>\n",
       "      <td>1502.14</td>\n",
       "      <td>1502.14</td>\n",
       "      <td>0.00</td>\n",
       "      <td>2020</td>\n",
       "      <td>02</td>\n",
       "    </tr>\n",
       "    <tr>\n",
       "      <th>1</th>\n",
       "      <td>Fruit et Légume</td>\n",
       "      <td>234.11</td>\n",
       "      <td>234.11</td>\n",
       "      <td>0.00</td>\n",
       "      <td>2020</td>\n",
       "      <td>02</td>\n",
       "    </tr>\n",
       "    <tr>\n",
       "      <th>2</th>\n",
       "      <td>Fruit et Légume</td>\n",
       "      <td>4.07</td>\n",
       "      <td>4.07</td>\n",
       "      <td>0.00</td>\n",
       "      <td>2020</td>\n",
       "      <td>02</td>\n",
       "    </tr>\n",
       "    <tr>\n",
       "      <th>3</th>\n",
       "      <td>Fruit et Légume</td>\n",
       "      <td>4.83</td>\n",
       "      <td>4.83</td>\n",
       "      <td>0.00</td>\n",
       "      <td>2020</td>\n",
       "      <td>02</td>\n",
       "    </tr>\n",
       "    <tr>\n",
       "      <th>4</th>\n",
       "      <td>Fruit et Légume</td>\n",
       "      <td>66.22</td>\n",
       "      <td>66.22</td>\n",
       "      <td>0.00</td>\n",
       "      <td>2020</td>\n",
       "      <td>02</td>\n",
       "    </tr>\n",
       "    <tr>\n",
       "      <th>...</th>\n",
       "      <td>...</td>\n",
       "      <td>...</td>\n",
       "      <td>...</td>\n",
       "      <td>...</td>\n",
       "      <td>...</td>\n",
       "      <td>...</td>\n",
       "    </tr>\n",
       "    <tr>\n",
       "      <th>27729</th>\n",
       "      <td>Fruit et Légume</td>\n",
       "      <td>349.68</td>\n",
       "      <td>516.71</td>\n",
       "      <td>47.77</td>\n",
       "      <td>2022</td>\n",
       "      <td>12</td>\n",
       "    </tr>\n",
       "    <tr>\n",
       "      <th>27730</th>\n",
       "      <td>Fruit et Légume</td>\n",
       "      <td>816.74</td>\n",
       "      <td>1410.52</td>\n",
       "      <td>72.70</td>\n",
       "      <td>2022</td>\n",
       "      <td>12</td>\n",
       "    </tr>\n",
       "    <tr>\n",
       "      <th>27731</th>\n",
       "      <td>Fruit et Légume</td>\n",
       "      <td>22.27</td>\n",
       "      <td>24.56</td>\n",
       "      <td>10.30</td>\n",
       "      <td>2022</td>\n",
       "      <td>12</td>\n",
       "    </tr>\n",
       "    <tr>\n",
       "      <th>27732</th>\n",
       "      <td>Fruit et Légume</td>\n",
       "      <td>22.63</td>\n",
       "      <td>2.47</td>\n",
       "      <td>-89.09</td>\n",
       "      <td>2022</td>\n",
       "      <td>12</td>\n",
       "    </tr>\n",
       "    <tr>\n",
       "      <th>27733</th>\n",
       "      <td>Fruit et Légume</td>\n",
       "      <td>3.75</td>\n",
       "      <td>2.91</td>\n",
       "      <td>-22.40</td>\n",
       "      <td>2022</td>\n",
       "      <td>12</td>\n",
       "    </tr>\n",
       "  </tbody>\n",
       "</table></div>"
      ],
      "text/plain": [
       "               Produit  Baseline (14-Feb-2020)  Price (Latest date)  \\\n",
       "0      Fruit et Légume                 1502.14              1502.14   \n",
       "1      Fruit et Légume                  234.11               234.11   \n",
       "2      Fruit et Légume                    4.07                 4.07   \n",
       "3      Fruit et Légume                    4.83                 4.83   \n",
       "4      Fruit et Légume                   66.22                66.22   \n",
       "...                ...                     ...                  ...   \n",
       "27729  Fruit et Légume                  349.68               516.71   \n",
       "27730  Fruit et Légume                  816.74              1410.52   \n",
       "27731  Fruit et Légume                   22.27                24.56   \n",
       "27732  Fruit et Légume                   22.63                 2.47   \n",
       "27733  Fruit et Légume                    3.75                 2.91   \n",
       "\n",
       "       Variation Année Mois  \n",
       "0           0.00  2020   02  \n",
       "1           0.00  2020   02  \n",
       "2           0.00  2020   02  \n",
       "3           0.00  2020   02  \n",
       "4           0.00  2020   02  \n",
       "...          ...   ...  ...  \n",
       "27729      47.77  2022   12  \n",
       "27730      72.70  2022   12  \n",
       "27731      10.30  2022   12  \n",
       "27732     -89.09  2022   12  \n",
       "27733     -22.40  2022   12  \n",
       "\n",
       "[27734 rows x 6 columns]"
      ]
     },
     "execution_count": 9,
     "metadata": {},
     "output_type": "execute_result"
    }
   ],
   "source": [
    "df"
   ]
  },
  {
   "cell_type": "code",
   "execution_count": 10,
   "id": "d4f75397-6116-467c-b3c7-15f5630e46fc",
   "metadata": {},
   "outputs": [],
   "source": [
    "df.to_csv(\"Food_price.csv\")"
   ]
  },
  {
   "cell_type": "code",
   "execution_count": 20,
   "id": "b5ac5e87-c38b-4bdf-a782-5b023bef7e81",
   "metadata": {},
   "outputs": [],
   "source": [
    "df2 = pd.read_excel(\"FAOSTAT_data.xlsx\")"
   ]
  },
  {
   "cell_type": "code",
   "execution_count": 21,
   "id": "2393c82c-2dcf-437c-8389-62ab6b297909",
   "metadata": {},
   "outputs": [],
   "source": [
    "df2 = df2[df2[\"Produit\"]==\"Prix à la Consommation, Indices d'alimentation (2015 = 100)\"]"
   ]
  },
  {
   "cell_type": "code",
   "execution_count": 22,
   "id": "4b8a94f0-f17c-4017-9b34-ecfe60beee77",
   "metadata": {},
   "outputs": [],
   "source": [
    "df2 = df2[[\"Zone\", \"Année\", \"Mois\", \"Valeur\"]]"
   ]
  },
  {
   "cell_type": "code",
   "execution_count": 23,
   "id": "82211a9b-2565-46a3-8ff0-3d3d56fe648d",
   "metadata": {},
   "outputs": [
    {
     "data": {
      "text/html": [
       "<div><div id=069d0485-65c4-47f1-af03-2f91fbddcc48 style=\"display:none; background-color:#9D6CFF; color:white; width:200px; height:30px; padding-left:5px; border-radius:4px; flex-direction:row; justify-content:space-around; align-items:center;\" onmouseover=\"this.style.backgroundColor='#BA9BF8'\" onmouseout=\"this.style.backgroundColor='#9D6CFF'\" onclick=\"window.commands?.execute('create-mitosheet-from-dataframe-output');\">See Full Dataframe in Mito</div> <script> if (window.commands?.hasCommand('create-mitosheet-from-dataframe-output')) document.getElementById('069d0485-65c4-47f1-af03-2f91fbddcc48').style.display = 'flex' </script> <table border=\"1\" class=\"dataframe\">\n",
       "  <thead>\n",
       "    <tr style=\"text-align: right;\">\n",
       "      <th></th>\n",
       "      <th>Zone</th>\n",
       "      <th>Année</th>\n",
       "      <th>Mois</th>\n",
       "      <th>Valeur</th>\n",
       "      <th>norm_price</th>\n",
       "    </tr>\n",
       "  </thead>\n",
       "  <tbody>\n",
       "    <tr>\n",
       "      <th>258</th>\n",
       "      <td>Afghanistan</td>\n",
       "      <td>2000</td>\n",
       "      <td>Janvier</td>\n",
       "      <td>24.356332</td>\n",
       "      <td>0.004425</td>\n",
       "    </tr>\n",
       "    <tr>\n",
       "      <th>259</th>\n",
       "      <td>Afghanistan</td>\n",
       "      <td>2000</td>\n",
       "      <td>Février</td>\n",
       "      <td>23.636242</td>\n",
       "      <td>0.004289</td>\n",
       "    </tr>\n",
       "    <tr>\n",
       "      <th>260</th>\n",
       "      <td>Afghanistan</td>\n",
       "      <td>2000</td>\n",
       "      <td>Mars</td>\n",
       "      <td>23.485345</td>\n",
       "      <td>0.004260</td>\n",
       "    </tr>\n",
       "    <tr>\n",
       "      <th>261</th>\n",
       "      <td>Afghanistan</td>\n",
       "      <td>2000</td>\n",
       "      <td>Avril</td>\n",
       "      <td>24.767194</td>\n",
       "      <td>0.004503</td>\n",
       "    </tr>\n",
       "    <tr>\n",
       "      <th>262</th>\n",
       "      <td>Afghanistan</td>\n",
       "      <td>2000</td>\n",
       "      <td>Mai</td>\n",
       "      <td>25.956912</td>\n",
       "      <td>0.004728</td>\n",
       "    </tr>\n",
       "    <tr>\n",
       "      <th>...</th>\n",
       "      <td>...</td>\n",
       "      <td>...</td>\n",
       "      <td>...</td>\n",
       "      <td>...</td>\n",
       "      <td>...</td>\n",
       "    </tr>\n",
       "    <tr>\n",
       "      <th>113487</th>\n",
       "      <td>Palaos</td>\n",
       "      <td>2020</td>\n",
       "      <td>Octobre</td>\n",
       "      <td>106.107892</td>\n",
       "      <td>0.019903</td>\n",
       "    </tr>\n",
       "    <tr>\n",
       "      <th>113488</th>\n",
       "      <td>Palaos</td>\n",
       "      <td>2020</td>\n",
       "      <td>Novembre</td>\n",
       "      <td>105.650812</td>\n",
       "      <td>0.019816</td>\n",
       "    </tr>\n",
       "    <tr>\n",
       "      <th>113489</th>\n",
       "      <td>Palaos</td>\n",
       "      <td>2020</td>\n",
       "      <td>Décembre</td>\n",
       "      <td>105.193732</td>\n",
       "      <td>0.019730</td>\n",
       "    </tr>\n",
       "    <tr>\n",
       "      <th>113490</th>\n",
       "      <td>Palaos</td>\n",
       "      <td>2021</td>\n",
       "      <td>Janvier</td>\n",
       "      <td>105.487569</td>\n",
       "      <td>0.019785</td>\n",
       "    </tr>\n",
       "    <tr>\n",
       "      <th>113491</th>\n",
       "      <td>Palaos</td>\n",
       "      <td>2021</td>\n",
       "      <td>Février</td>\n",
       "      <td>105.781406</td>\n",
       "      <td>0.019841</td>\n",
       "    </tr>\n",
       "  </tbody>\n",
       "</table></div>"
      ],
      "text/plain": [
       "               Zone  Année      Mois      Valeur  norm_price\n",
       "258     Afghanistan   2000   Janvier   24.356332    0.004425\n",
       "259     Afghanistan   2000   Février   23.636242    0.004289\n",
       "260     Afghanistan   2000      Mars   23.485345    0.004260\n",
       "261     Afghanistan   2000     Avril   24.767194    0.004503\n",
       "262     Afghanistan   2000       Mai   25.956912    0.004728\n",
       "...             ...    ...       ...         ...         ...\n",
       "113487       Palaos   2020   Octobre  106.107892    0.019903\n",
       "113488       Palaos   2020  Novembre  105.650812    0.019816\n",
       "113489       Palaos   2020  Décembre  105.193732    0.019730\n",
       "113490       Palaos   2021   Janvier  105.487569    0.019785\n",
       "113491       Palaos   2021   Février  105.781406    0.019841\n",
       "\n",
       "[38324 rows x 5 columns]"
      ]
     },
     "execution_count": 23,
     "metadata": {},
     "output_type": "execute_result"
    }
   ],
   "source": [
    "scaling2 = pd.DataFrame(df2[\"Valeur\"])\n",
    "scaler = MinMaxScaler()\n",
    "scaler.fit(scaling2)\n",
    "df2.loc[:, \"norm_price\"] = scaler.transform(scaling2)\n",
    "df2"
   ]
  },
  {
   "cell_type": "code",
   "execution_count": 24,
   "id": "6f678e30-40f7-4709-93d0-ce0f97bfa8e7",
   "metadata": {},
   "outputs": [],
   "source": [
    "df2.to_csv(\"FAOSTAT_prix_conso.csv\")"
   ]
  },
  {
   "cell_type": "code",
   "execution_count": 60,
   "id": "1c6081bd-b932-42ac-a6ac-820187af0d90",
   "metadata": {},
   "outputs": [],
   "source": [
    "df3 = pd.read_excel(\"food_loss_2000-2022.xlsx\")"
   ]
  },
  {
   "cell_type": "code",
   "execution_count": 65,
   "id": "108d34ea-37dd-4e76-b951-572f13204679",
   "metadata": {},
   "outputs": [
    {
     "data": {
      "text/html": [
       "<div><div id=7c236dac-d685-4e50-9655-cb62441ec6a7 style=\"display:none; background-color:#9D6CFF; color:white; width:200px; height:30px; padding-left:5px; border-radius:4px; flex-direction:row; justify-content:space-around; align-items:center;\" onmouseover=\"this.style.backgroundColor='#BA9BF8'\" onmouseout=\"this.style.backgroundColor='#9D6CFF'\" onclick=\"window.commands?.execute('create-mitosheet-from-dataframe-output');\">See Full Dataframe in Mito</div> <script> if (window.commands?.hasCommand('create-mitosheet-from-dataframe-output')) document.getElementById('7c236dac-d685-4e50-9655-cb62441ec6a7').style.display = 'flex' </script> <table border=\"1\" class=\"dataframe\">\n",
       "  <thead>\n",
       "    <tr style=\"text-align: right;\">\n",
       "      <th></th>\n",
       "      <th>pays</th>\n",
       "      <th>commodity</th>\n",
       "      <th>produits</th>\n",
       "      <th>annee</th>\n",
       "      <th>perte_pourcentage</th>\n",
       "      <th>activity</th>\n",
       "      <th>food_supply_stage</th>\n",
       "      <th>treatment</th>\n",
       "      <th>cause_of_loss</th>\n",
       "    </tr>\n",
       "  </thead>\n",
       "  <tbody>\n",
       "    <tr>\n",
       "      <th>0</th>\n",
       "      <td>Myanmar</td>\n",
       "      <td>Groundnuts, excluding shelled</td>\n",
       "      <td>légumineuses</td>\n",
       "      <td>2009</td>\n",
       "      <td>5.22</td>\n",
       "      <td>NaN</td>\n",
       "      <td>Whole supply chain</td>\n",
       "      <td>NaN</td>\n",
       "      <td>NaN</td>\n",
       "    </tr>\n",
       "    <tr>\n",
       "      <th>1</th>\n",
       "      <td>Myanmar</td>\n",
       "      <td>Groundnuts, excluding shelled</td>\n",
       "      <td>légumineuses</td>\n",
       "      <td>2008</td>\n",
       "      <td>5.43</td>\n",
       "      <td>NaN</td>\n",
       "      <td>Whole supply chain</td>\n",
       "      <td>NaN</td>\n",
       "      <td>NaN</td>\n",
       "    </tr>\n",
       "    <tr>\n",
       "      <th>2</th>\n",
       "      <td>Myanmar</td>\n",
       "      <td>Groundnuts, excluding shelled</td>\n",
       "      <td>légumineuses</td>\n",
       "      <td>2007</td>\n",
       "      <td>5.61</td>\n",
       "      <td>NaN</td>\n",
       "      <td>Whole supply chain</td>\n",
       "      <td>NaN</td>\n",
       "      <td>NaN</td>\n",
       "    </tr>\n",
       "    <tr>\n",
       "      <th>3</th>\n",
       "      <td>Myanmar</td>\n",
       "      <td>Groundnuts, excluding shelled</td>\n",
       "      <td>légumineuses</td>\n",
       "      <td>2006</td>\n",
       "      <td>5.40</td>\n",
       "      <td>NaN</td>\n",
       "      <td>Whole supply chain</td>\n",
       "      <td>NaN</td>\n",
       "      <td>NaN</td>\n",
       "    </tr>\n",
       "    <tr>\n",
       "      <th>4</th>\n",
       "      <td>Myanmar</td>\n",
       "      <td>Groundnuts, excluding shelled</td>\n",
       "      <td>légumineuses</td>\n",
       "      <td>2005</td>\n",
       "      <td>5.00</td>\n",
       "      <td>NaN</td>\n",
       "      <td>Whole supply chain</td>\n",
       "      <td>NaN</td>\n",
       "      <td>NaN</td>\n",
       "    </tr>\n",
       "    <tr>\n",
       "      <th>...</th>\n",
       "      <td>...</td>\n",
       "      <td>...</td>\n",
       "      <td>...</td>\n",
       "      <td>...</td>\n",
       "      <td>...</td>\n",
       "      <td>...</td>\n",
       "      <td>...</td>\n",
       "      <td>...</td>\n",
       "      <td>...</td>\n",
       "    </tr>\n",
       "    <tr>\n",
       "      <th>21319</th>\n",
       "      <td>Zambia</td>\n",
       "      <td>Millet</td>\n",
       "      <td>féculents</td>\n",
       "      <td>2005</td>\n",
       "      <td>1.29</td>\n",
       "      <td>Storage</td>\n",
       "      <td>Farm</td>\n",
       "      <td>NaN</td>\n",
       "      <td>NaN</td>\n",
       "    </tr>\n",
       "    <tr>\n",
       "      <th>21320</th>\n",
       "      <td>Zambia</td>\n",
       "      <td>Millet</td>\n",
       "      <td>féculents</td>\n",
       "      <td>2005</td>\n",
       "      <td>2.37</td>\n",
       "      <td>Storage</td>\n",
       "      <td>Storage</td>\n",
       "      <td>NaN</td>\n",
       "      <td>NaN</td>\n",
       "    </tr>\n",
       "    <tr>\n",
       "      <th>21321</th>\n",
       "      <td>Zambia</td>\n",
       "      <td>Millet</td>\n",
       "      <td>féculents</td>\n",
       "      <td>2005</td>\n",
       "      <td>1.00</td>\n",
       "      <td>Transportation</td>\n",
       "      <td>Transport</td>\n",
       "      <td>NaN</td>\n",
       "      <td>NaN</td>\n",
       "    </tr>\n",
       "    <tr>\n",
       "      <th>21322</th>\n",
       "      <td>Zambia</td>\n",
       "      <td>Millet</td>\n",
       "      <td>féculents</td>\n",
       "      <td>2005</td>\n",
       "      <td>3.43</td>\n",
       "      <td>Drying, Harvesting</td>\n",
       "      <td>Harvest</td>\n",
       "      <td>NaN</td>\n",
       "      <td>NaN</td>\n",
       "    </tr>\n",
       "    <tr>\n",
       "      <th>21323</th>\n",
       "      <td>Zambia</td>\n",
       "      <td>Millet</td>\n",
       "      <td>féculents</td>\n",
       "      <td>2005</td>\n",
       "      <td>2.50</td>\n",
       "      <td>Transportation</td>\n",
       "      <td>Farm</td>\n",
       "      <td>NaN</td>\n",
       "      <td>NaN</td>\n",
       "    </tr>\n",
       "  </tbody>\n",
       "</table></div>"
      ],
      "text/plain": [
       "          pays                      commodity      produits  annee  \\\n",
       "0      Myanmar  Groundnuts, excluding shelled  légumineuses   2009   \n",
       "1      Myanmar  Groundnuts, excluding shelled  légumineuses   2008   \n",
       "2      Myanmar  Groundnuts, excluding shelled  légumineuses   2007   \n",
       "3      Myanmar  Groundnuts, excluding shelled  légumineuses   2006   \n",
       "4      Myanmar  Groundnuts, excluding shelled  légumineuses   2005   \n",
       "...        ...                            ...           ...    ...   \n",
       "21319   Zambia                         Millet     féculents   2005   \n",
       "21320   Zambia                         Millet     féculents   2005   \n",
       "21321   Zambia                         Millet     féculents   2005   \n",
       "21322   Zambia                         Millet     féculents   2005   \n",
       "21323   Zambia                         Millet     féculents   2005   \n",
       "\n",
       "       perte_pourcentage            activity   food_supply_stage treatment  \\\n",
       "0                   5.22                 NaN  Whole supply chain       NaN   \n",
       "1                   5.43                 NaN  Whole supply chain       NaN   \n",
       "2                   5.61                 NaN  Whole supply chain       NaN   \n",
       "3                   5.40                 NaN  Whole supply chain       NaN   \n",
       "4                   5.00                 NaN  Whole supply chain       NaN   \n",
       "...                  ...                 ...                 ...       ...   \n",
       "21319               1.29             Storage                Farm       NaN   \n",
       "21320               2.37             Storage             Storage       NaN   \n",
       "21321               1.00      Transportation           Transport       NaN   \n",
       "21322               3.43  Drying, Harvesting             Harvest       NaN   \n",
       "21323               2.50      Transportation                Farm       NaN   \n",
       "\n",
       "      cause_of_loss  \n",
       "0               NaN  \n",
       "1               NaN  \n",
       "2               NaN  \n",
       "3               NaN  \n",
       "4               NaN  \n",
       "...             ...  \n",
       "21319           NaN  \n",
       "21320           NaN  \n",
       "21321           NaN  \n",
       "21322           NaN  \n",
       "21323           NaN  \n",
       "\n",
       "[21324 rows x 9 columns]"
      ]
     },
     "execution_count": 65,
     "metadata": {},
     "output_type": "execute_result"
    }
   ],
   "source": [
    "df3 = df3[df3[\"pays\"].notna()]\n",
    "df3 = df3[df3[\"produits\"].notna()]\n",
    "df3 = df3[df3[\"annee\"].notna()]\n",
    "df3 = df3[df3[\"perte_pourcentage\"].notna()]\n",
    "df3[\"annee\"] = df3[\"annee\"].astype(int)\n",
    "df3"
   ]
  },
  {
   "cell_type": "code",
   "execution_count": 71,
   "id": "e2be19bb-878e-4f86-b1b3-a385ac1bc7cc",
   "metadata": {},
   "outputs": [],
   "source": [
    "df3[\"produits\"] = df3.produits.replace(\"féculents\", \"Féculents\")\n",
    "df3[\"produits\"] = df3.produits.replace(\"légumineuses\", \"Légumineuses\")"
   ]
  },
  {
   "cell_type": "code",
   "execution_count": 72,
   "id": "b3eb0d05-200e-4aa1-aba7-385d9666a77b",
   "metadata": {},
   "outputs": [
    {
     "data": {
      "text/plain": [
       "array(['Légumineuses', 'Féculents', 'Lait', 'fruits et légumes', 'œufs',\n",
       "       'Elevage et viande', 'Céréales', 'Micro nutrition', 'tubercules',\n",
       "       'Produis laitiers', 'céréales', 'Huile et oléagineaux', 'sucre',\n",
       "       'boissons'], dtype=object)"
      ]
     },
     "execution_count": 72,
     "metadata": {},
     "output_type": "execute_result"
    }
   ],
   "source": [
    "df3.produits.unique()"
   ]
  },
  {
   "cell_type": "code",
   "execution_count": 74,
   "id": "5b2e19c4-5f82-458f-b4a2-22e87651d3dd",
   "metadata": {},
   "outputs": [],
   "source": [
    "df3.to_csv(\"food_loss_2000-2022.csv\")"
   ]
  },
  {
   "cell_type": "code",
   "execution_count": 51,
   "id": "6aa2b69b-a214-4f6c-b98c-5e3d320d4053",
   "metadata": {},
   "outputs": [],
   "source": [
    "df4 = pd.read_csv(\"Dataset_FAOSTAT.csv\")"
   ]
  },
  {
   "cell_type": "code",
   "execution_count": 52,
   "id": "cd1209de-4f7f-4a2e-8a32-6318b4aa0a6a",
   "metadata": {},
   "outputs": [],
   "source": [
    "df4 = df4[[\"Zone\", \"Produit\", \"Année\", \"Valeur\"]]"
   ]
  },
  {
   "cell_type": "code",
   "execution_count": 53,
   "id": "87dd909f-82bd-492d-8a39-938a0aa9c60e",
   "metadata": {},
   "outputs": [],
   "source": [
    "df4 = df4[df4[\"Produit\"]!=\"Textiles\"]"
   ]
  },
  {
   "cell_type": "code",
   "execution_count": 54,
   "id": "55c45b87-8e12-4e84-93e3-9278d8545952",
   "metadata": {},
   "outputs": [
    {
     "data": {
      "text/plain": [
       "array(['Fruit et Légume', 'Céréales', 'Élevage', 'Aliments protéinés',\n",
       "       'Viande', 'Fibre végétale'], dtype=object)"
      ]
     },
     "execution_count": 54,
     "metadata": {},
     "output_type": "execute_result"
    }
   ],
   "source": [
    "df4.Produit.unique()"
   ]
  },
  {
   "cell_type": "code",
   "execution_count": 55,
   "id": "557b08ab-a474-48d0-af0c-fe943cfbce94",
   "metadata": {},
   "outputs": [],
   "source": [
    "fruit = pd.DataFrame(df4.loc[df4[\"Produit\"]==\"Fruit et Légume\", \"Valeur\"])\n",
    "cereal = pd.DataFrame(df4.loc[df4[\"Produit\"]==\"Céréales\", \"Valeur\"])\n",
    "elev = pd.DataFrame(df4.loc[df4[\"Produit\"]==\"Élevage\", \"Valeur\"])\n",
    "alimprot = pd.DataFrame(df4.loc[df4[\"Produit\"]==\"Aliments protéinés\", \"Valeur\"])\n",
    "viande = pd.DataFrame(df4.loc[df4[\"Produit\"]==\"Viande\", \"Valeur\"])\n",
    "fibre_veg = pd.DataFrame(df4.loc[df4[\"Produit\"]==\"Fibre végétale\", \"Valeur\"])"
   ]
  },
  {
   "cell_type": "code",
   "execution_count": 56,
   "id": "79e9b1fe-4a70-470e-9e7a-308f5f59313e",
   "metadata": {},
   "outputs": [],
   "source": [
    "minimaxit(df4, fruit, \"Fruit et Légume\")"
   ]
  },
  {
   "cell_type": "code",
   "execution_count": 57,
   "id": "735fb379-4415-41bf-86fa-8e09683444a0",
   "metadata": {},
   "outputs": [],
   "source": [
    "minimaxit(df4, cereal, \"Céréales\")\n",
    "minimaxit(df4, elev, \"Élevage\")\n",
    "minimaxit(df4, alimprot, \"Aliments protéinés\")\n",
    "minimaxit(df4, viande, \"Viande\")\n",
    "minimaxit(df4, fibre_veg, \"Fibre végétale\")"
   ]
  },
  {
   "cell_type": "code",
   "execution_count": 58,
   "id": "8b94a48f-5855-4ca1-b3b6-0c080df3ac49",
   "metadata": {},
   "outputs": [
    {
     "data": {
      "text/html": [
       "<div><div id=ff1883d3-1ba8-435c-956b-2517f318908f style=\"display:none; background-color:#9D6CFF; color:white; width:200px; height:30px; padding-left:5px; border-radius:4px; flex-direction:row; justify-content:space-around; align-items:center;\" onmouseover=\"this.style.backgroundColor='#BA9BF8'\" onmouseout=\"this.style.backgroundColor='#9D6CFF'\" onclick=\"window.commands?.execute('create-mitosheet-from-dataframe-output');\">See Full Dataframe in Mito</div> <script> if (window.commands?.hasCommand('create-mitosheet-from-dataframe-output')) document.getElementById('ff1883d3-1ba8-435c-956b-2517f318908f').style.display = 'flex' </script> <table border=\"1\" class=\"dataframe\">\n",
       "  <thead>\n",
       "    <tr style=\"text-align: right;\">\n",
       "      <th></th>\n",
       "      <th>Zone</th>\n",
       "      <th>Produit</th>\n",
       "      <th>Année</th>\n",
       "      <th>Valeur</th>\n",
       "      <th>norm_price</th>\n",
       "    </tr>\n",
       "  </thead>\n",
       "  <tbody>\n",
       "    <tr>\n",
       "      <th>0</th>\n",
       "      <td>Afghanistan</td>\n",
       "      <td>Fruit et Légume</td>\n",
       "      <td>2000</td>\n",
       "      <td>75.82</td>\n",
       "      <td>0.000056</td>\n",
       "    </tr>\n",
       "    <tr>\n",
       "      <th>1</th>\n",
       "      <td>Afghanistan</td>\n",
       "      <td>Fruit et Légume</td>\n",
       "      <td>2001</td>\n",
       "      <td>72.56</td>\n",
       "      <td>0.000053</td>\n",
       "    </tr>\n",
       "    <tr>\n",
       "      <th>2</th>\n",
       "      <td>Afghanistan</td>\n",
       "      <td>Fruit et Légume</td>\n",
       "      <td>2002</td>\n",
       "      <td>76.60</td>\n",
       "      <td>0.000056</td>\n",
       "    </tr>\n",
       "    <tr>\n",
       "      <th>3</th>\n",
       "      <td>Afghanistan</td>\n",
       "      <td>Fruit et Légume</td>\n",
       "      <td>2003</td>\n",
       "      <td>62.83</td>\n",
       "      <td>0.000046</td>\n",
       "    </tr>\n",
       "    <tr>\n",
       "      <th>4</th>\n",
       "      <td>Afghanistan</td>\n",
       "      <td>Fruit et Légume</td>\n",
       "      <td>2004</td>\n",
       "      <td>67.59</td>\n",
       "      <td>0.000049</td>\n",
       "    </tr>\n",
       "    <tr>\n",
       "      <th>...</th>\n",
       "      <td>...</td>\n",
       "      <td>...</td>\n",
       "      <td>...</td>\n",
       "      <td>...</td>\n",
       "      <td>...</td>\n",
       "    </tr>\n",
       "    <tr>\n",
       "      <th>51368</th>\n",
       "      <td>Zimbabwe</td>\n",
       "      <td>Fruit et Légume</td>\n",
       "      <td>2017</td>\n",
       "      <td>98.71</td>\n",
       "      <td>0.000073</td>\n",
       "    </tr>\n",
       "    <tr>\n",
       "      <th>51369</th>\n",
       "      <td>Zimbabwe</td>\n",
       "      <td>Fruit et Légume</td>\n",
       "      <td>2018</td>\n",
       "      <td>67.31</td>\n",
       "      <td>0.000049</td>\n",
       "    </tr>\n",
       "    <tr>\n",
       "      <th>51370</th>\n",
       "      <td>Zimbabwe</td>\n",
       "      <td>Fruit et Légume</td>\n",
       "      <td>2019</td>\n",
       "      <td>47.01</td>\n",
       "      <td>0.000034</td>\n",
       "    </tr>\n",
       "    <tr>\n",
       "      <th>51371</th>\n",
       "      <td>Zimbabwe</td>\n",
       "      <td>Fruit et Légume</td>\n",
       "      <td>2020</td>\n",
       "      <td>33.59</td>\n",
       "      <td>0.000024</td>\n",
       "    </tr>\n",
       "    <tr>\n",
       "      <th>51372</th>\n",
       "      <td>Zimbabwe</td>\n",
       "      <td>Fruit et Légume</td>\n",
       "      <td>2021</td>\n",
       "      <td>17.49</td>\n",
       "      <td>0.000012</td>\n",
       "    </tr>\n",
       "  </tbody>\n",
       "</table></div>"
      ],
      "text/plain": [
       "              Zone          Produit  Année  Valeur  norm_price\n",
       "0      Afghanistan  Fruit et Légume   2000   75.82    0.000056\n",
       "1      Afghanistan  Fruit et Légume   2001   72.56    0.000053\n",
       "2      Afghanistan  Fruit et Légume   2002   76.60    0.000056\n",
       "3      Afghanistan  Fruit et Légume   2003   62.83    0.000046\n",
       "4      Afghanistan  Fruit et Légume   2004   67.59    0.000049\n",
       "...            ...              ...    ...     ...         ...\n",
       "51368     Zimbabwe  Fruit et Légume   2017   98.71    0.000073\n",
       "51369     Zimbabwe  Fruit et Légume   2018   67.31    0.000049\n",
       "51370     Zimbabwe  Fruit et Légume   2019   47.01    0.000034\n",
       "51371     Zimbabwe  Fruit et Légume   2020   33.59    0.000024\n",
       "51372     Zimbabwe  Fruit et Légume   2021   17.49    0.000012\n",
       "\n",
       "[49461 rows x 5 columns]"
      ]
     },
     "execution_count": 58,
     "metadata": {},
     "output_type": "execute_result"
    }
   ],
   "source": [
    "df4"
   ]
  },
  {
   "cell_type": "code",
   "execution_count": 59,
   "id": "fd2ecec2-8ee8-4d37-ba9a-eca7f8851205",
   "metadata": {},
   "outputs": [],
   "source": [
    "df4.to_csv(\"FAOSTAT_prix_prod.csv\")"
   ]
  },
  {
   "cell_type": "code",
   "execution_count": 77,
   "id": "9dfab9a9-10b1-4a60-b709-bc757d46daf8",
   "metadata": {},
   "outputs": [],
   "source": [
    "df5 = pd.read_csv(\"wfp_foodprices_norm_clean.csv\", index_col=0)"
   ]
  },
  {
   "cell_type": "code",
   "execution_count": 78,
   "id": "071c9a2d-b651-4244-817b-47a7837531d1",
   "metadata": {},
   "outputs": [
    {
     "data": {
      "text/html": [
       "<div><div id=9f5c78d8-6363-4afe-9d27-344a97fbbdec style=\"display:none; background-color:#9D6CFF; color:white; width:200px; height:30px; padding-left:5px; border-radius:4px; flex-direction:row; justify-content:space-around; align-items:center;\" onmouseover=\"this.style.backgroundColor='#BA9BF8'\" onmouseout=\"this.style.backgroundColor='#9D6CFF'\" onclick=\"window.commands?.execute('create-mitosheet-from-dataframe-output');\">See Full Dataframe in Mito</div> <script> if (window.commands?.hasCommand('create-mitosheet-from-dataframe-output')) document.getElementById('9f5c78d8-6363-4afe-9d27-344a97fbbdec').style.display = 'flex' </script> <table border=\"1\" class=\"dataframe\">\n",
       "  <thead>\n",
       "    <tr style=\"text-align: right;\">\n",
       "      <th></th>\n",
       "      <th>Pays</th>\n",
       "      <th>Produit</th>\n",
       "      <th>pt_name</th>\n",
       "      <th>mp_month</th>\n",
       "      <th>mp_year</th>\n",
       "      <th>mp_price</th>\n",
       "      <th>price_norm</th>\n",
       "    </tr>\n",
       "  </thead>\n",
       "  <tbody>\n",
       "    <tr>\n",
       "      <th>0</th>\n",
       "      <td>Afghanistan</td>\n",
       "      <td>Céréales</td>\n",
       "      <td>Retail</td>\n",
       "      <td>1</td>\n",
       "      <td>2014</td>\n",
       "      <td>50.0000</td>\n",
       "      <td>0.000002</td>\n",
       "    </tr>\n",
       "    <tr>\n",
       "      <th>1</th>\n",
       "      <td>Afghanistan</td>\n",
       "      <td>Céréales</td>\n",
       "      <td>Retail</td>\n",
       "      <td>2</td>\n",
       "      <td>2014</td>\n",
       "      <td>50.0000</td>\n",
       "      <td>0.000002</td>\n",
       "    </tr>\n",
       "    <tr>\n",
       "      <th>2</th>\n",
       "      <td>Afghanistan</td>\n",
       "      <td>Céréales</td>\n",
       "      <td>Retail</td>\n",
       "      <td>3</td>\n",
       "      <td>2014</td>\n",
       "      <td>50.0000</td>\n",
       "      <td>0.000002</td>\n",
       "    </tr>\n",
       "    <tr>\n",
       "      <th>3</th>\n",
       "      <td>Afghanistan</td>\n",
       "      <td>Céréales</td>\n",
       "      <td>Retail</td>\n",
       "      <td>4</td>\n",
       "      <td>2014</td>\n",
       "      <td>50.0000</td>\n",
       "      <td>0.000002</td>\n",
       "    </tr>\n",
       "    <tr>\n",
       "      <th>4</th>\n",
       "      <td>Afghanistan</td>\n",
       "      <td>Céréales</td>\n",
       "      <td>Retail</td>\n",
       "      <td>5</td>\n",
       "      <td>2014</td>\n",
       "      <td>50.0000</td>\n",
       "      <td>0.000002</td>\n",
       "    </tr>\n",
       "    <tr>\n",
       "      <th>...</th>\n",
       "      <td>...</td>\n",
       "      <td>...</td>\n",
       "      <td>...</td>\n",
       "      <td>...</td>\n",
       "      <td>...</td>\n",
       "      <td>...</td>\n",
       "      <td>...</td>\n",
       "    </tr>\n",
       "    <tr>\n",
       "      <th>1891415</th>\n",
       "      <td>Zimbabwe</td>\n",
       "      <td>Matière grasse</td>\n",
       "      <td>Retail</td>\n",
       "      <td>6</td>\n",
       "      <td>2021</td>\n",
       "      <td>197.0000</td>\n",
       "      <td>0.000824</td>\n",
       "    </tr>\n",
       "    <tr>\n",
       "      <th>1891416</th>\n",
       "      <td>Zimbabwe</td>\n",
       "      <td>Produit sucré</td>\n",
       "      <td>Retail</td>\n",
       "      <td>6</td>\n",
       "      <td>2021</td>\n",
       "      <td>118.3750</td>\n",
       "      <td>0.000843</td>\n",
       "    </tr>\n",
       "    <tr>\n",
       "      <th>1891417</th>\n",
       "      <td>Zimbabwe</td>\n",
       "      <td>Micro-nutriment</td>\n",
       "      <td>Retail</td>\n",
       "      <td>6</td>\n",
       "      <td>2021</td>\n",
       "      <td>71.0000</td>\n",
       "      <td>0.004727</td>\n",
       "    </tr>\n",
       "    <tr>\n",
       "      <th>1891418</th>\n",
       "      <td>Zimbabwe</td>\n",
       "      <td>Produit sucré</td>\n",
       "      <td>Retail</td>\n",
       "      <td>6</td>\n",
       "      <td>2021</td>\n",
       "      <td>233.3333</td>\n",
       "      <td>0.001664</td>\n",
       "    </tr>\n",
       "    <tr>\n",
       "      <th>1891419</th>\n",
       "      <td>Zimbabwe</td>\n",
       "      <td>Poisson</td>\n",
       "      <td>Retail</td>\n",
       "      <td>6</td>\n",
       "      <td>2021</td>\n",
       "      <td>1200.0000</td>\n",
       "      <td>0.007020</td>\n",
       "    </tr>\n",
       "  </tbody>\n",
       "</table></div>"
      ],
      "text/plain": [
       "                Pays          Produit pt_name  mp_month  mp_year   mp_price  \\\n",
       "0        Afghanistan         Céréales  Retail         1     2014    50.0000   \n",
       "1        Afghanistan         Céréales  Retail         2     2014    50.0000   \n",
       "2        Afghanistan         Céréales  Retail         3     2014    50.0000   \n",
       "3        Afghanistan         Céréales  Retail         4     2014    50.0000   \n",
       "4        Afghanistan         Céréales  Retail         5     2014    50.0000   \n",
       "...              ...              ...     ...       ...      ...        ...   \n",
       "1891415     Zimbabwe   Matière grasse  Retail         6     2021   197.0000   \n",
       "1891416     Zimbabwe    Produit sucré  Retail         6     2021   118.3750   \n",
       "1891417     Zimbabwe  Micro-nutriment  Retail         6     2021    71.0000   \n",
       "1891418     Zimbabwe    Produit sucré  Retail         6     2021   233.3333   \n",
       "1891419     Zimbabwe          Poisson  Retail         6     2021  1200.0000   \n",
       "\n",
       "         price_norm  \n",
       "0          0.000002  \n",
       "1          0.000002  \n",
       "2          0.000002  \n",
       "3          0.000002  \n",
       "4          0.000002  \n",
       "...             ...  \n",
       "1891415    0.000824  \n",
       "1891416    0.000843  \n",
       "1891417    0.004727  \n",
       "1891418    0.001664  \n",
       "1891419    0.007020  \n",
       "\n",
       "[1891420 rows x 7 columns]"
      ]
     },
     "execution_count": 78,
     "metadata": {},
     "output_type": "execute_result"
    }
   ],
   "source": [
    "df5"
   ]
  },
  {
   "cell_type": "code",
   "execution_count": 92,
   "id": "fab741b5-5548-4cba-95c7-ad11a259f6ad",
   "metadata": {},
   "outputs": [
    {
     "data": {
      "text/plain": [
       "array(['Afghanistan', 'Algeria', 'Angola', 'Argentina', 'Armenia',\n",
       "       'Azerbaijan', 'Bangladesh', 'Belarus', 'Benin', 'Bhutan',\n",
       "       'Bolivia', 'Burkina Faso', 'Cambodia', 'Cameroon', 'Cape Verde',\n",
       "       'Central African Republic', 'Chad', 'China', 'Colombia', 'Congo',\n",
       "       'Costa Rica', \"Cote d'Ivoire\", 'Ecuador', 'Egypt', 'El Salvador',\n",
       "       'Ethiopia', 'Gabon', 'Gambia', 'Georgia', 'Ghana', 'Guatemala',\n",
       "       'Guinea-Bissau', 'Haiti', 'Honduras', 'Indonesia',\n",
       "       'Iran  (Islamic Republic of)', 'Iraq', 'Japan', 'Jordan',\n",
       "       'Kazakhstan', 'Kenya', 'Liberia', 'Libya', 'Madagascar', 'Mali',\n",
       "       'Mauritania', 'Mexico', 'Mongolia', 'Mozambique', 'Myanmar',\n",
       "       'Nepal', 'Nicaragua', 'Niger', 'Nigeria', 'Pakistan', 'Panama',\n",
       "       'Paraguay', 'Philippines', 'Russian Federation', 'Rwanda',\n",
       "       'Senegal', 'Sierra Leone', 'Somalia', 'South Africa',\n",
       "       'South Sudan', 'Sri Lanka', 'Sudan', 'Thailand', 'Togo', 'Turkey',\n",
       "       'Uganda', 'Ukraine', 'United Republic of Tanzania', 'Viet Nam',\n",
       "       'Yemen', 'Zambia'], dtype=object)"
      ]
     },
     "execution_count": 92,
     "metadata": {},
     "output_type": "execute_result"
    }
   ],
   "source": [
    "df5.Pays.unique()"
   ]
  },
  {
   "cell_type": "code",
   "execution_count": 90,
   "id": "831051d0-6212-4d88-9765-3fa7c8550043",
   "metadata": {},
   "outputs": [],
   "source": [
    "df5 = df5[df5[\"Pays\"]!=\"Zimbabwe\"]\n",
    "df5 = df5[df5[\"Pays\"]!=\"Zambia\"]\n",
    "df5 = df5[df5[\"Pays\"]!=\"Zimbabwe\"]\n",
    "df5 = df5[df5[\"Pays\"]!=\"Kyrgyzstan\"]\n",
    "df5 = df5[df5[\"Pays\"]!=\"Lao People's Democratic Republic\"]\n",
    "df5 = df5[df5[\"Pays\"]!=\"Guinea\"]\n",
    "df5 = df5[df5[\"Pays\"]!=\"Dominican Republic\"]\n",
    "df5 = df5[df5[\"Pays\"]!=\"Democratic Republic of the Congo\"]\n",
    "df5 = df5[df5[\"Pays\"]!=\"Djibouti\"]\n",
    "df5 = df5[df5[\"Pays\"]!=\"Burundi\"]\n",
    "df5 = df5[df5[\"Pays\"]!=\"Timor-Leste\"]\n",
    "df5 = df5[df5[\"Pays\"]!=\"Tajikistan\"]\n",
    "df5 = df5[df5[\"Pays\"]!=\"Swaziland\"]\n",
    "df5 = df5[df5[\"Pays\"]!=\"Moldova Republic of\"]\n",
    "df5 = df5[df5[\"Pays\"]!=\"Lebanon\"]\n",
    "df5 = df5[df5[\"Pays\"]!=\"Lesotho\"]\n",
    "df5 = df5[df5[\"Pays\"]!=\"Eritrea\"]\n",
    "df5 = df5[df5[\"Pays\"]!=\"Bassas da India\"]\n",
    "df5 = df5[df5[\"Pays\"]!=\"Peru\"]\n",
    "df5 = df5[df5[\"Pays\"]!=\"Syrian Arab Republic\"]\n",
    "df5 = df5[df5[\"Pays\"]!=\"State of Palestine\"]\n",
    "df5 = df5[df5[\"Pays\"]!=\"Malawi\"]\n",
    "df5 = df5[df5[\"Pays\"]!=\"Namibia\"]"
   ]
  },
  {
   "cell_type": "code",
   "execution_count": 91,
   "id": "15e9ff61-e6a7-47c3-ac17-1a821cc420b5",
   "metadata": {},
   "outputs": [],
   "source": [
    "df5.to_csv(\"wfp_foodprices_norm_clean.csv\")"
   ]
  },
  {
   "cell_type": "code",
   "execution_count": 7,
   "id": "68f22122-6a87-4b2c-a342-2519061d6450",
   "metadata": {},
   "outputs": [],
   "source": [
    "mdt = pd.read_csv(\"food_loss_2000-2022.csv\", index_col=0)"
   ]
  },
  {
   "cell_type": "code",
   "execution_count": 8,
   "id": "631137b7-dead-48a5-883a-5b6fbfe0b118",
   "metadata": {},
   "outputs": [
    {
     "data": {
      "text/html": [
       "<div><div id=c61262f1-bb43-4e6e-ad61-e6f64b49059a style=\"display:none; background-color:#9D6CFF; color:white; width:200px; height:30px; padding-left:5px; border-radius:4px; flex-direction:row; justify-content:space-around; align-items:center;\" onmouseover=\"this.style.backgroundColor='#BA9BF8'\" onmouseout=\"this.style.backgroundColor='#9D6CFF'\" onclick=\"window.commands?.execute('create-mitosheet-from-dataframe-output');\">See Full Dataframe in Mito</div> <script> if (window.commands?.hasCommand('create-mitosheet-from-dataframe-output')) document.getElementById('c61262f1-bb43-4e6e-ad61-e6f64b49059a').style.display = 'flex' </script> <table border=\"1\" class=\"dataframe\">\n",
       "  <thead>\n",
       "    <tr style=\"text-align: right;\">\n",
       "      <th></th>\n",
       "      <th>pays</th>\n",
       "      <th>commodity</th>\n",
       "      <th>produits</th>\n",
       "      <th>annee</th>\n",
       "      <th>perte_pourcentage</th>\n",
       "      <th>activity</th>\n",
       "      <th>food_supply_stage</th>\n",
       "      <th>treatment</th>\n",
       "      <th>cause_of_loss</th>\n",
       "    </tr>\n",
       "  </thead>\n",
       "  <tbody>\n",
       "    <tr>\n",
       "      <th>0</th>\n",
       "      <td>Myanmar</td>\n",
       "      <td>Groundnuts, excluding shelled</td>\n",
       "      <td>Légumineuses</td>\n",
       "      <td>2009</td>\n",
       "      <td>5.22</td>\n",
       "      <td>NaN</td>\n",
       "      <td>Whole supply chain</td>\n",
       "      <td>NaN</td>\n",
       "      <td>NaN</td>\n",
       "    </tr>\n",
       "    <tr>\n",
       "      <th>1</th>\n",
       "      <td>Myanmar</td>\n",
       "      <td>Groundnuts, excluding shelled</td>\n",
       "      <td>Légumineuses</td>\n",
       "      <td>2008</td>\n",
       "      <td>5.43</td>\n",
       "      <td>NaN</td>\n",
       "      <td>Whole supply chain</td>\n",
       "      <td>NaN</td>\n",
       "      <td>NaN</td>\n",
       "    </tr>\n",
       "    <tr>\n",
       "      <th>2</th>\n",
       "      <td>Myanmar</td>\n",
       "      <td>Groundnuts, excluding shelled</td>\n",
       "      <td>Légumineuses</td>\n",
       "      <td>2007</td>\n",
       "      <td>5.61</td>\n",
       "      <td>NaN</td>\n",
       "      <td>Whole supply chain</td>\n",
       "      <td>NaN</td>\n",
       "      <td>NaN</td>\n",
       "    </tr>\n",
       "    <tr>\n",
       "      <th>3</th>\n",
       "      <td>Myanmar</td>\n",
       "      <td>Groundnuts, excluding shelled</td>\n",
       "      <td>Légumineuses</td>\n",
       "      <td>2006</td>\n",
       "      <td>5.40</td>\n",
       "      <td>NaN</td>\n",
       "      <td>Whole supply chain</td>\n",
       "      <td>NaN</td>\n",
       "      <td>NaN</td>\n",
       "    </tr>\n",
       "    <tr>\n",
       "      <th>4</th>\n",
       "      <td>Myanmar</td>\n",
       "      <td>Groundnuts, excluding shelled</td>\n",
       "      <td>Légumineuses</td>\n",
       "      <td>2005</td>\n",
       "      <td>5.00</td>\n",
       "      <td>NaN</td>\n",
       "      <td>Whole supply chain</td>\n",
       "      <td>NaN</td>\n",
       "      <td>NaN</td>\n",
       "    </tr>\n",
       "    <tr>\n",
       "      <th>...</th>\n",
       "      <td>...</td>\n",
       "      <td>...</td>\n",
       "      <td>...</td>\n",
       "      <td>...</td>\n",
       "      <td>...</td>\n",
       "      <td>...</td>\n",
       "      <td>...</td>\n",
       "      <td>...</td>\n",
       "      <td>...</td>\n",
       "    </tr>\n",
       "    <tr>\n",
       "      <th>21319</th>\n",
       "      <td>Zambia</td>\n",
       "      <td>Millet</td>\n",
       "      <td>Féculents</td>\n",
       "      <td>2005</td>\n",
       "      <td>1.29</td>\n",
       "      <td>Storage</td>\n",
       "      <td>Farm</td>\n",
       "      <td>NaN</td>\n",
       "      <td>NaN</td>\n",
       "    </tr>\n",
       "    <tr>\n",
       "      <th>21320</th>\n",
       "      <td>Zambia</td>\n",
       "      <td>Millet</td>\n",
       "      <td>Féculents</td>\n",
       "      <td>2005</td>\n",
       "      <td>2.37</td>\n",
       "      <td>Storage</td>\n",
       "      <td>Storage</td>\n",
       "      <td>NaN</td>\n",
       "      <td>NaN</td>\n",
       "    </tr>\n",
       "    <tr>\n",
       "      <th>21321</th>\n",
       "      <td>Zambia</td>\n",
       "      <td>Millet</td>\n",
       "      <td>Féculents</td>\n",
       "      <td>2005</td>\n",
       "      <td>1.00</td>\n",
       "      <td>Transportation</td>\n",
       "      <td>Transport</td>\n",
       "      <td>NaN</td>\n",
       "      <td>NaN</td>\n",
       "    </tr>\n",
       "    <tr>\n",
       "      <th>21322</th>\n",
       "      <td>Zambia</td>\n",
       "      <td>Millet</td>\n",
       "      <td>Féculents</td>\n",
       "      <td>2005</td>\n",
       "      <td>3.43</td>\n",
       "      <td>Drying, Harvesting</td>\n",
       "      <td>Harvest</td>\n",
       "      <td>NaN</td>\n",
       "      <td>NaN</td>\n",
       "    </tr>\n",
       "    <tr>\n",
       "      <th>21323</th>\n",
       "      <td>Zambia</td>\n",
       "      <td>Millet</td>\n",
       "      <td>Féculents</td>\n",
       "      <td>2005</td>\n",
       "      <td>2.50</td>\n",
       "      <td>Transportation</td>\n",
       "      <td>Farm</td>\n",
       "      <td>NaN</td>\n",
       "      <td>NaN</td>\n",
       "    </tr>\n",
       "  </tbody>\n",
       "</table></div>"
      ],
      "text/plain": [
       "          pays                      commodity      produits  annee  \\\n",
       "0      Myanmar  Groundnuts, excluding shelled  Légumineuses   2009   \n",
       "1      Myanmar  Groundnuts, excluding shelled  Légumineuses   2008   \n",
       "2      Myanmar  Groundnuts, excluding shelled  Légumineuses   2007   \n",
       "3      Myanmar  Groundnuts, excluding shelled  Légumineuses   2006   \n",
       "4      Myanmar  Groundnuts, excluding shelled  Légumineuses   2005   \n",
       "...        ...                            ...           ...    ...   \n",
       "21319   Zambia                         Millet     Féculents   2005   \n",
       "21320   Zambia                         Millet     Féculents   2005   \n",
       "21321   Zambia                         Millet     Féculents   2005   \n",
       "21322   Zambia                         Millet     Féculents   2005   \n",
       "21323   Zambia                         Millet     Féculents   2005   \n",
       "\n",
       "       perte_pourcentage            activity   food_supply_stage treatment  \\\n",
       "0                   5.22                 NaN  Whole supply chain       NaN   \n",
       "1                   5.43                 NaN  Whole supply chain       NaN   \n",
       "2                   5.61                 NaN  Whole supply chain       NaN   \n",
       "3                   5.40                 NaN  Whole supply chain       NaN   \n",
       "4                   5.00                 NaN  Whole supply chain       NaN   \n",
       "...                  ...                 ...                 ...       ...   \n",
       "21319               1.29             Storage                Farm       NaN   \n",
       "21320               2.37             Storage             Storage       NaN   \n",
       "21321               1.00      Transportation           Transport       NaN   \n",
       "21322               3.43  Drying, Harvesting             Harvest       NaN   \n",
       "21323               2.50      Transportation                Farm       NaN   \n",
       "\n",
       "      cause_of_loss  \n",
       "0               NaN  \n",
       "1               NaN  \n",
       "2               NaN  \n",
       "3               NaN  \n",
       "4               NaN  \n",
       "...             ...  \n",
       "21319           NaN  \n",
       "21320           NaN  \n",
       "21321           NaN  \n",
       "21322           NaN  \n",
       "21323           NaN  \n",
       "\n",
       "[21324 rows x 9 columns]"
      ]
     },
     "execution_count": 8,
     "metadata": {},
     "output_type": "execute_result"
    }
   ],
   "source": [
    "mdt"
   ]
  },
  {
   "cell_type": "code",
   "execution_count": 97,
   "id": "4c454196-85a4-48d2-a4ed-f50eb1896a7c",
   "metadata": {},
   "outputs": [],
   "source": [
    "dff = pd.read_csv(\"wfp_foodprices_norm_clean.csv\")"
   ]
  },
  {
   "cell_type": "code",
   "execution_count": 93,
   "id": "930d5164-3097-46d2-9d81-6564280ea43f",
   "metadata": {},
   "outputs": [
    {
     "data": {
      "text/plain": [
       "Index(['Unnamed: 0', 'Pays', 'Produit', 'pt_name', 'mp_month', 'mp_year',\n",
       "       'mp_price', 'price_norm'],\n",
       "      dtype='object')"
      ]
     },
     "execution_count": 93,
     "metadata": {},
     "output_type": "execute_result"
    }
   ],
   "source": [
    "dff.columns"
   ]
  },
  {
   "cell_type": "code",
   "execution_count": 94,
   "id": "fb47bd95-025b-46f1-b4d3-d660b885b7c0",
   "metadata": {},
   "outputs": [],
   "source": [
    "dff = pd.DataFrame(dff.groupby(\"Pays\")[\"price_norm\"].mean().sort_values(ascending=False).head(6))"
   ]
  },
  {
   "cell_type": "code",
   "execution_count": 98,
   "id": "6dfa4fbf-b8ee-4aa1-83b4-f7beaafd7d00",
   "metadata": {},
   "outputs": [
    {
     "data": {
      "application/vnd.plotly.v1+json": {
       "config": {
        "plotlyServerURL": "https://plot.ly"
       },
       "data": [
        {
         "domain": {
          "x": [
           0,
           1
          ],
          "y": [
           0,
           1
          ]
         },
         "hovertemplate": "Pays=%{label}<br>price_norm=%{value}<extra></extra>",
         "labels": [
          "Cameroon",
          "Sierra Leone",
          "Cambodia",
          "Somalia",
          "Indonesia",
          "Iran  (Islamic Republic of)"
         ],
         "legendgroup": "",
         "name": "",
         "showlegend": true,
         "type": "pie",
         "values": [
          0.022216812736427612,
          0.031390470584908174,
          0.043295002154382665,
          0.049200894324748834,
          0.059335386698809243,
          0.210906264329304
         ]
        }
       ],
       "layout": {
        "autosize": true,
        "legend": {
         "tracegroupgap": 0
        },
        "margin": {
         "t": 60
        },
        "template": {
         "data": {
          "bar": [
           {
            "error_x": {
             "color": "#2a3f5f"
            },
            "error_y": {
             "color": "#2a3f5f"
            },
            "marker": {
             "line": {
              "color": "#E5ECF6",
              "width": 0.5
             },
             "pattern": {
              "fillmode": "overlay",
              "size": 10,
              "solidity": 0.2
             }
            },
            "type": "bar"
           }
          ],
          "barpolar": [
           {
            "marker": {
             "line": {
              "color": "#E5ECF6",
              "width": 0.5
             },
             "pattern": {
              "fillmode": "overlay",
              "size": 10,
              "solidity": 0.2
             }
            },
            "type": "barpolar"
           }
          ],
          "carpet": [
           {
            "aaxis": {
             "endlinecolor": "#2a3f5f",
             "gridcolor": "white",
             "linecolor": "white",
             "minorgridcolor": "white",
             "startlinecolor": "#2a3f5f"
            },
            "baxis": {
             "endlinecolor": "#2a3f5f",
             "gridcolor": "white",
             "linecolor": "white",
             "minorgridcolor": "white",
             "startlinecolor": "#2a3f5f"
            },
            "type": "carpet"
           }
          ],
          "choropleth": [
           {
            "colorbar": {
             "outlinewidth": 0,
             "ticks": ""
            },
            "type": "choropleth"
           }
          ],
          "contour": [
           {
            "colorbar": {
             "outlinewidth": 0,
             "ticks": ""
            },
            "colorscale": [
             [
              0,
              "#0d0887"
             ],
             [
              0.1111111111111111,
              "#46039f"
             ],
             [
              0.2222222222222222,
              "#7201a8"
             ],
             [
              0.3333333333333333,
              "#9c179e"
             ],
             [
              0.4444444444444444,
              "#bd3786"
             ],
             [
              0.5555555555555556,
              "#d8576b"
             ],
             [
              0.6666666666666666,
              "#ed7953"
             ],
             [
              0.7777777777777778,
              "#fb9f3a"
             ],
             [
              0.8888888888888888,
              "#fdca26"
             ],
             [
              1,
              "#f0f921"
             ]
            ],
            "type": "contour"
           }
          ],
          "contourcarpet": [
           {
            "colorbar": {
             "outlinewidth": 0,
             "ticks": ""
            },
            "type": "contourcarpet"
           }
          ],
          "heatmap": [
           {
            "colorbar": {
             "outlinewidth": 0,
             "ticks": ""
            },
            "colorscale": [
             [
              0,
              "#0d0887"
             ],
             [
              0.1111111111111111,
              "#46039f"
             ],
             [
              0.2222222222222222,
              "#7201a8"
             ],
             [
              0.3333333333333333,
              "#9c179e"
             ],
             [
              0.4444444444444444,
              "#bd3786"
             ],
             [
              0.5555555555555556,
              "#d8576b"
             ],
             [
              0.6666666666666666,
              "#ed7953"
             ],
             [
              0.7777777777777778,
              "#fb9f3a"
             ],
             [
              0.8888888888888888,
              "#fdca26"
             ],
             [
              1,
              "#f0f921"
             ]
            ],
            "type": "heatmap"
           }
          ],
          "heatmapgl": [
           {
            "colorbar": {
             "outlinewidth": 0,
             "ticks": ""
            },
            "colorscale": [
             [
              0,
              "#0d0887"
             ],
             [
              0.1111111111111111,
              "#46039f"
             ],
             [
              0.2222222222222222,
              "#7201a8"
             ],
             [
              0.3333333333333333,
              "#9c179e"
             ],
             [
              0.4444444444444444,
              "#bd3786"
             ],
             [
              0.5555555555555556,
              "#d8576b"
             ],
             [
              0.6666666666666666,
              "#ed7953"
             ],
             [
              0.7777777777777778,
              "#fb9f3a"
             ],
             [
              0.8888888888888888,
              "#fdca26"
             ],
             [
              1,
              "#f0f921"
             ]
            ],
            "type": "heatmapgl"
           }
          ],
          "histogram": [
           {
            "marker": {
             "pattern": {
              "fillmode": "overlay",
              "size": 10,
              "solidity": 0.2
             }
            },
            "type": "histogram"
           }
          ],
          "histogram2d": [
           {
            "colorbar": {
             "outlinewidth": 0,
             "ticks": ""
            },
            "colorscale": [
             [
              0,
              "#0d0887"
             ],
             [
              0.1111111111111111,
              "#46039f"
             ],
             [
              0.2222222222222222,
              "#7201a8"
             ],
             [
              0.3333333333333333,
              "#9c179e"
             ],
             [
              0.4444444444444444,
              "#bd3786"
             ],
             [
              0.5555555555555556,
              "#d8576b"
             ],
             [
              0.6666666666666666,
              "#ed7953"
             ],
             [
              0.7777777777777778,
              "#fb9f3a"
             ],
             [
              0.8888888888888888,
              "#fdca26"
             ],
             [
              1,
              "#f0f921"
             ]
            ],
            "type": "histogram2d"
           }
          ],
          "histogram2dcontour": [
           {
            "colorbar": {
             "outlinewidth": 0,
             "ticks": ""
            },
            "colorscale": [
             [
              0,
              "#0d0887"
             ],
             [
              0.1111111111111111,
              "#46039f"
             ],
             [
              0.2222222222222222,
              "#7201a8"
             ],
             [
              0.3333333333333333,
              "#9c179e"
             ],
             [
              0.4444444444444444,
              "#bd3786"
             ],
             [
              0.5555555555555556,
              "#d8576b"
             ],
             [
              0.6666666666666666,
              "#ed7953"
             ],
             [
              0.7777777777777778,
              "#fb9f3a"
             ],
             [
              0.8888888888888888,
              "#fdca26"
             ],
             [
              1,
              "#f0f921"
             ]
            ],
            "type": "histogram2dcontour"
           }
          ],
          "mesh3d": [
           {
            "colorbar": {
             "outlinewidth": 0,
             "ticks": ""
            },
            "type": "mesh3d"
           }
          ],
          "parcoords": [
           {
            "line": {
             "colorbar": {
              "outlinewidth": 0,
              "ticks": ""
             }
            },
            "type": "parcoords"
           }
          ],
          "pie": [
           {
            "automargin": true,
            "type": "pie"
           }
          ],
          "scatter": [
           {
            "fillpattern": {
             "fillmode": "overlay",
             "size": 10,
             "solidity": 0.2
            },
            "type": "scatter"
           }
          ],
          "scatter3d": [
           {
            "line": {
             "colorbar": {
              "outlinewidth": 0,
              "ticks": ""
             }
            },
            "marker": {
             "colorbar": {
              "outlinewidth": 0,
              "ticks": ""
             }
            },
            "type": "scatter3d"
           }
          ],
          "scattercarpet": [
           {
            "marker": {
             "colorbar": {
              "outlinewidth": 0,
              "ticks": ""
             }
            },
            "type": "scattercarpet"
           }
          ],
          "scattergeo": [
           {
            "marker": {
             "colorbar": {
              "outlinewidth": 0,
              "ticks": ""
             }
            },
            "type": "scattergeo"
           }
          ],
          "scattergl": [
           {
            "marker": {
             "colorbar": {
              "outlinewidth": 0,
              "ticks": ""
             }
            },
            "type": "scattergl"
           }
          ],
          "scattermapbox": [
           {
            "marker": {
             "colorbar": {
              "outlinewidth": 0,
              "ticks": ""
             }
            },
            "type": "scattermapbox"
           }
          ],
          "scatterpolar": [
           {
            "marker": {
             "colorbar": {
              "outlinewidth": 0,
              "ticks": ""
             }
            },
            "type": "scatterpolar"
           }
          ],
          "scatterpolargl": [
           {
            "marker": {
             "colorbar": {
              "outlinewidth": 0,
              "ticks": ""
             }
            },
            "type": "scatterpolargl"
           }
          ],
          "scatterternary": [
           {
            "marker": {
             "colorbar": {
              "outlinewidth": 0,
              "ticks": ""
             }
            },
            "type": "scatterternary"
           }
          ],
          "surface": [
           {
            "colorbar": {
             "outlinewidth": 0,
             "ticks": ""
            },
            "colorscale": [
             [
              0,
              "#0d0887"
             ],
             [
              0.1111111111111111,
              "#46039f"
             ],
             [
              0.2222222222222222,
              "#7201a8"
             ],
             [
              0.3333333333333333,
              "#9c179e"
             ],
             [
              0.4444444444444444,
              "#bd3786"
             ],
             [
              0.5555555555555556,
              "#d8576b"
             ],
             [
              0.6666666666666666,
              "#ed7953"
             ],
             [
              0.7777777777777778,
              "#fb9f3a"
             ],
             [
              0.8888888888888888,
              "#fdca26"
             ],
             [
              1,
              "#f0f921"
             ]
            ],
            "type": "surface"
           }
          ],
          "table": [
           {
            "cells": {
             "fill": {
              "color": "#EBF0F8"
             },
             "line": {
              "color": "white"
             }
            },
            "header": {
             "fill": {
              "color": "#C8D4E3"
             },
             "line": {
              "color": "white"
             }
            },
            "type": "table"
           }
          ]
         },
         "layout": {
          "annotationdefaults": {
           "arrowcolor": "#2a3f5f",
           "arrowhead": 0,
           "arrowwidth": 1
          },
          "autotypenumbers": "strict",
          "coloraxis": {
           "colorbar": {
            "outlinewidth": 0,
            "ticks": ""
           }
          },
          "colorscale": {
           "diverging": [
            [
             0,
             "#8e0152"
            ],
            [
             0.1,
             "#c51b7d"
            ],
            [
             0.2,
             "#de77ae"
            ],
            [
             0.3,
             "#f1b6da"
            ],
            [
             0.4,
             "#fde0ef"
            ],
            [
             0.5,
             "#f7f7f7"
            ],
            [
             0.6,
             "#e6f5d0"
            ],
            [
             0.7,
             "#b8e186"
            ],
            [
             0.8,
             "#7fbc41"
            ],
            [
             0.9,
             "#4d9221"
            ],
            [
             1,
             "#276419"
            ]
           ],
           "sequential": [
            [
             0,
             "#0d0887"
            ],
            [
             0.1111111111111111,
             "#46039f"
            ],
            [
             0.2222222222222222,
             "#7201a8"
            ],
            [
             0.3333333333333333,
             "#9c179e"
            ],
            [
             0.4444444444444444,
             "#bd3786"
            ],
            [
             0.5555555555555556,
             "#d8576b"
            ],
            [
             0.6666666666666666,
             "#ed7953"
            ],
            [
             0.7777777777777778,
             "#fb9f3a"
            ],
            [
             0.8888888888888888,
             "#fdca26"
            ],
            [
             1,
             "#f0f921"
            ]
           ],
           "sequentialminus": [
            [
             0,
             "#0d0887"
            ],
            [
             0.1111111111111111,
             "#46039f"
            ],
            [
             0.2222222222222222,
             "#7201a8"
            ],
            [
             0.3333333333333333,
             "#9c179e"
            ],
            [
             0.4444444444444444,
             "#bd3786"
            ],
            [
             0.5555555555555556,
             "#d8576b"
            ],
            [
             0.6666666666666666,
             "#ed7953"
            ],
            [
             0.7777777777777778,
             "#fb9f3a"
            ],
            [
             0.8888888888888888,
             "#fdca26"
            ],
            [
             1,
             "#f0f921"
            ]
           ]
          },
          "colorway": [
           "#636efa",
           "#EF553B",
           "#00cc96",
           "#ab63fa",
           "#FFA15A",
           "#19d3f3",
           "#FF6692",
           "#B6E880",
           "#FF97FF",
           "#FECB52"
          ],
          "font": {
           "color": "#2a3f5f"
          },
          "geo": {
           "bgcolor": "white",
           "lakecolor": "white",
           "landcolor": "#E5ECF6",
           "showlakes": true,
           "showland": true,
           "subunitcolor": "white"
          },
          "hoverlabel": {
           "align": "left"
          },
          "hovermode": "closest",
          "mapbox": {
           "style": "light"
          },
          "paper_bgcolor": "white",
          "plot_bgcolor": "#E5ECF6",
          "polar": {
           "angularaxis": {
            "gridcolor": "white",
            "linecolor": "white",
            "ticks": ""
           },
           "bgcolor": "#E5ECF6",
           "radialaxis": {
            "gridcolor": "white",
            "linecolor": "white",
            "ticks": ""
           }
          },
          "scene": {
           "xaxis": {
            "backgroundcolor": "#E5ECF6",
            "gridcolor": "white",
            "gridwidth": 2,
            "linecolor": "white",
            "showbackground": true,
            "ticks": "",
            "zerolinecolor": "white"
           },
           "yaxis": {
            "backgroundcolor": "#E5ECF6",
            "gridcolor": "white",
            "gridwidth": 2,
            "linecolor": "white",
            "showbackground": true,
            "ticks": "",
            "zerolinecolor": "white"
           },
           "zaxis": {
            "backgroundcolor": "#E5ECF6",
            "gridcolor": "white",
            "gridwidth": 2,
            "linecolor": "white",
            "showbackground": true,
            "ticks": "",
            "zerolinecolor": "white"
           }
          },
          "shapedefaults": {
           "line": {
            "color": "#2a3f5f"
           }
          },
          "ternary": {
           "aaxis": {
            "gridcolor": "white",
            "linecolor": "white",
            "ticks": ""
           },
           "baxis": {
            "gridcolor": "white",
            "linecolor": "white",
            "ticks": ""
           },
           "bgcolor": "#E5ECF6",
           "caxis": {
            "gridcolor": "white",
            "linecolor": "white",
            "ticks": ""
           }
          },
          "title": {
           "x": 0.05
          },
          "xaxis": {
           "automargin": true,
           "gridcolor": "white",
           "linecolor": "white",
           "ticks": "",
           "title": {
            "standoff": 15
           },
           "zerolinecolor": "white",
           "zerolinewidth": 2
          },
          "yaxis": {
           "automargin": true,
           "gridcolor": "white",
           "linecolor": "white",
           "ticks": "",
           "title": {
            "standoff": 15
           },
           "zerolinecolor": "white",
           "zerolinewidth": 2
          }
         }
        }
       }
      },
      "image/png": "[encoded data removed]",
      "text/html": [
       "<div>                            <div id=\"d20c37c6-49d6-4f76-84e8-8758f4b425b5\" class=\"plotly-graph-div\" style=\"height:525px; width:100%;\"></div>            <script type=\"text/javascript\">                require([\"plotly\"], function(Plotly) {                    window.PLOTLYENV=window.PLOTLYENV || {};                                    if (document.getElementById(\"d20c37c6-49d6-4f76-84e8-8758f4b425b5\")) {                    Plotly.newPlot(                        \"d20c37c6-49d6-4f76-84e8-8758f4b425b5\",                        [{\"domain\":{\"x\":[0.0,1.0],\"y\":[0.0,1.0]},\"hovertemplate\":\"Pays=%{label}<br>price_norm=%{value}<extra></extra>\",\"labels\":[\"Cameroon\",\"Sierra Leone\",\"Cambodia\",\"Somalia\",\"Indonesia\",\"Iran  (Islamic Republic of)\"],\"legendgroup\":\"\",\"name\":\"\",\"showlegend\":true,\"values\":[0.022216812736427612,0.031390470584908174,0.043295002154382665,0.049200894324748834,0.059335386698809243,0.210906264329304],\"type\":\"pie\"}],                        {\"template\":{\"data\":{\"histogram2dcontour\":[{\"type\":\"histogram2dcontour\",\"colorbar\":{\"outlinewidth\":0,\"ticks\":\"\"},\"colorscale\":[[0.0,\"#0d0887\"],[0.1111111111111111,\"#46039f\"],[0.2222222222222222,\"#7201a8\"],[0.3333333333333333,\"#9c179e\"],[0.4444444444444444,\"#bd3786\"],[0.5555555555555556,\"#d8576b\"],[0.6666666666666666,\"#ed7953\"],[0.7777777777777778,\"#fb9f3a\"],[0.8888888888888888,\"#fdca26\"],[1.0,\"#f0f921\"]]}],\"choropleth\":[{\"type\":\"choropleth\",\"colorbar\":{\"outlinewidth\":0,\"ticks\":\"\"}}],\"histogram2d\":[{\"type\":\"histogram2d\",\"colorbar\":{\"outlinewidth\":0,\"ticks\":\"\"},\"colorscale\":[[0.0,\"#0d0887\"],[0.1111111111111111,\"#46039f\"],[0.2222222222222222,\"#7201a8\"],[0.3333333333333333,\"#9c179e\"],[0.4444444444444444,\"#bd3786\"],[0.5555555555555556,\"#d8576b\"],[0.6666666666666666,\"#ed7953\"],[0.7777777777777778,\"#fb9f3a\"],[0.8888888888888888,\"#fdca26\"],[1.0,\"#f0f921\"]]}],\"heatmap\":[{\"type\":\"heatmap\",\"colorbar\":{\"outlinewidth\":0,\"ticks\":\"\"},\"colorscale\":[[0.0,\"#0d0887\"],[0.1111111111111111,\"#46039f\"],[0.2222222222222222,\"#7201a8\"],[0.3333333333333333,\"#9c179e\"],[0.4444444444444444,\"#bd3786\"],[0.5555555555555556,\"#d8576b\"],[0.6666666666666666,\"#ed7953\"],[0.7777777777777778,\"#fb9f3a\"],[0.8888888888888888,\"#fdca26\"],[1.0,\"#f0f921\"]]}],\"heatmapgl\":[{\"type\":\"heatmapgl\",\"colorbar\":{\"outlinewidth\":0,\"ticks\":\"\"},\"colorscale\":[[0.0,\"#0d0887\"],[0.1111111111111111,\"#46039f\"],[0.2222222222222222,\"#7201a8\"],[0.3333333333333333,\"#9c179e\"],[0.4444444444444444,\"#bd3786\"],[0.5555555555555556,\"#d8576b\"],[0.6666666666666666,\"#ed7953\"],[0.7777777777777778,\"#fb9f3a\"],[0.8888888888888888,\"#fdca26\"],[1.0,\"#f0f921\"]]}],\"contourcarpet\":[{\"type\":\"contourcarpet\",\"colorbar\":{\"outlinewidth\":0,\"ticks\":\"\"}}],\"contour\":[{\"type\":\"contour\",\"colorbar\":{\"outlinewidth\":0,\"ticks\":\"\"},\"colorscale\":[[0.0,\"#0d0887\"],[0.1111111111111111,\"#46039f\"],[0.2222222222222222,\"#7201a8\"],[0.3333333333333333,\"#9c179e\"],[0.4444444444444444,\"#bd3786\"],[0.5555555555555556,\"#d8576b\"],[0.6666666666666666,\"#ed7953\"],[0.7777777777777778,\"#fb9f3a\"],[0.8888888888888888,\"#fdca26\"],[1.0,\"#f0f921\"]]}],\"surface\":[{\"type\":\"surface\",\"colorbar\":{\"outlinewidth\":0,\"ticks\":\"\"},\"colorscale\":[[0.0,\"#0d0887\"],[0.1111111111111111,\"#46039f\"],[0.2222222222222222,\"#7201a8\"],[0.3333333333333333,\"#9c179e\"],[0.4444444444444444,\"#bd3786\"],[0.5555555555555556,\"#d8576b\"],[0.6666666666666666,\"#ed7953\"],[0.7777777777777778,\"#fb9f3a\"],[0.8888888888888888,\"#fdca26\"],[1.0,\"#f0f921\"]]}],\"mesh3d\":[{\"type\":\"mesh3d\",\"colorbar\":{\"outlinewidth\":0,\"ticks\":\"\"}}],\"scatter\":[{\"fillpattern\":{\"fillmode\":\"overlay\",\"size\":10,\"solidity\":0.2},\"type\":\"scatter\"}],\"parcoords\":[{\"type\":\"parcoords\",\"line\":{\"colorbar\":{\"outlinewidth\":0,\"ticks\":\"\"}}}],\"scatterpolargl\":[{\"type\":\"scatterpolargl\",\"marker\":{\"colorbar\":{\"outlinewidth\":0,\"ticks\":\"\"}}}],\"bar\":[{\"error_x\":{\"color\":\"#2a3f5f\"},\"error_y\":{\"color\":\"#2a3f5f\"},\"marker\":{\"line\":{\"color\":\"#E5ECF6\",\"width\":0.5},\"pattern\":{\"fillmode\":\"overlay\",\"size\":10,\"solidity\":0.2}},\"type\":\"bar\"}],\"scattergeo\":[{\"type\":\"scattergeo\",\"marker\":{\"colorbar\":{\"outlinewidth\":0,\"ticks\":\"\"}}}],\"scatterpolar\":[{\"type\":\"scatterpolar\",\"marker\":{\"colorbar\":{\"outlinewidth\":0,\"ticks\":\"\"}}}],\"histogram\":[{\"marker\":{\"pattern\":{\"fillmode\":\"overlay\",\"size\":10,\"solidity\":0.2}},\"type\":\"histogram\"}],\"scattergl\":[{\"type\":\"scattergl\",\"marker\":{\"colorbar\":{\"outlinewidth\":0,\"ticks\":\"\"}}}],\"scatter3d\":[{\"type\":\"scatter3d\",\"line\":{\"colorbar\":{\"outlinewidth\":0,\"ticks\":\"\"}},\"marker\":{\"colorbar\":{\"outlinewidth\":0,\"ticks\":\"\"}}}],\"scattermapbox\":[{\"type\":\"scattermapbox\",\"marker\":{\"colorbar\":{\"outlinewidth\":0,\"ticks\":\"\"}}}],\"scatterternary\":[{\"type\":\"scatterternary\",\"marker\":{\"colorbar\":{\"outlinewidth\":0,\"ticks\":\"\"}}}],\"scattercarpet\":[{\"type\":\"scattercarpet\",\"marker\":{\"colorbar\":{\"outlinewidth\":0,\"ticks\":\"\"}}}],\"carpet\":[{\"aaxis\":{\"endlinecolor\":\"#2a3f5f\",\"gridcolor\":\"white\",\"linecolor\":\"white\",\"minorgridcolor\":\"white\",\"startlinecolor\":\"#2a3f5f\"},\"baxis\":{\"endlinecolor\":\"#2a3f5f\",\"gridcolor\":\"white\",\"linecolor\":\"white\",\"minorgridcolor\":\"white\",\"startlinecolor\":\"#2a3f5f\"},\"type\":\"carpet\"}],\"table\":[{\"cells\":{\"fill\":{\"color\":\"#EBF0F8\"},\"line\":{\"color\":\"white\"}},\"header\":{\"fill\":{\"color\":\"#C8D4E3\"},\"line\":{\"color\":\"white\"}},\"type\":\"table\"}],\"barpolar\":[{\"marker\":{\"line\":{\"color\":\"#E5ECF6\",\"width\":0.5},\"pattern\":{\"fillmode\":\"overlay\",\"size\":10,\"solidity\":0.2}},\"type\":\"barpolar\"}],\"pie\":[{\"automargin\":true,\"type\":\"pie\"}]},\"layout\":{\"autotypenumbers\":\"strict\",\"colorway\":[\"#636efa\",\"#EF553B\",\"#00cc96\",\"#ab63fa\",\"#FFA15A\",\"#19d3f3\",\"#FF6692\",\"#B6E880\",\"#FF97FF\",\"#FECB52\"],\"font\":{\"color\":\"#2a3f5f\"},\"hovermode\":\"closest\",\"hoverlabel\":{\"align\":\"left\"},\"paper_bgcolor\":\"white\",\"plot_bgcolor\":\"#E5ECF6\",\"polar\":{\"bgcolor\":\"#E5ECF6\",\"angularaxis\":{\"gridcolor\":\"white\",\"linecolor\":\"white\",\"ticks\":\"\"},\"radialaxis\":{\"gridcolor\":\"white\",\"linecolor\":\"white\",\"ticks\":\"\"}},\"ternary\":{\"bgcolor\":\"#E5ECF6\",\"aaxis\":{\"gridcolor\":\"white\",\"linecolor\":\"white\",\"ticks\":\"\"},\"baxis\":{\"gridcolor\":\"white\",\"linecolor\":\"white\",\"ticks\":\"\"},\"caxis\":{\"gridcolor\":\"white\",\"linecolor\":\"white\",\"ticks\":\"\"}},\"coloraxis\":{\"colorbar\":{\"outlinewidth\":0,\"ticks\":\"\"}},\"colorscale\":{\"sequential\":[[0.0,\"#0d0887\"],[0.1111111111111111,\"#46039f\"],[0.2222222222222222,\"#7201a8\"],[0.3333333333333333,\"#9c179e\"],[0.4444444444444444,\"#bd3786\"],[0.5555555555555556,\"#d8576b\"],[0.6666666666666666,\"#ed7953\"],[0.7777777777777778,\"#fb9f3a\"],[0.8888888888888888,\"#fdca26\"],[1.0,\"#f0f921\"]],\"sequentialminus\":[[0.0,\"#0d0887\"],[0.1111111111111111,\"#46039f\"],[0.2222222222222222,\"#7201a8\"],[0.3333333333333333,\"#9c179e\"],[0.4444444444444444,\"#bd3786\"],[0.5555555555555556,\"#d8576b\"],[0.6666666666666666,\"#ed7953\"],[0.7777777777777778,\"#fb9f3a\"],[0.8888888888888888,\"#fdca26\"],[1.0,\"#f0f921\"]],\"diverging\":[[0,\"#8e0152\"],[0.1,\"#c51b7d\"],[0.2,\"#de77ae\"],[0.3,\"#f1b6da\"],[0.4,\"#fde0ef\"],[0.5,\"#f7f7f7\"],[0.6,\"#e6f5d0\"],[0.7,\"#b8e186\"],[0.8,\"#7fbc41\"],[0.9,\"#4d9221\"],[1,\"#276419\"]]},\"xaxis\":{\"gridcolor\":\"white\",\"linecolor\":\"white\",\"ticks\":\"\",\"title\":{\"standoff\":15},\"zerolinecolor\":\"white\",\"automargin\":true,\"zerolinewidth\":2},\"yaxis\":{\"gridcolor\":\"white\",\"linecolor\":\"white\",\"ticks\":\"\",\"title\":{\"standoff\":15},\"zerolinecolor\":\"white\",\"automargin\":true,\"zerolinewidth\":2},\"scene\":{\"xaxis\":{\"backgroundcolor\":\"#E5ECF6\",\"gridcolor\":\"white\",\"linecolor\":\"white\",\"showbackground\":true,\"ticks\":\"\",\"zerolinecolor\":\"white\",\"gridwidth\":2},\"yaxis\":{\"backgroundcolor\":\"#E5ECF6\",\"gridcolor\":\"white\",\"linecolor\":\"white\",\"showbackground\":true,\"ticks\":\"\",\"zerolinecolor\":\"white\",\"gridwidth\":2},\"zaxis\":{\"backgroundcolor\":\"#E5ECF6\",\"gridcolor\":\"white\",\"linecolor\":\"white\",\"showbackground\":true,\"ticks\":\"\",\"zerolinecolor\":\"white\",\"gridwidth\":2}},\"shapedefaults\":{\"line\":{\"color\":\"#2a3f5f\"}},\"annotationdefaults\":{\"arrowcolor\":\"#2a3f5f\",\"arrowhead\":0,\"arrowwidth\":1},\"geo\":{\"bgcolor\":\"white\",\"landcolor\":\"#E5ECF6\",\"subunitcolor\":\"white\",\"showland\":true,\"showlakes\":true,\"lakecolor\":\"white\"},\"title\":{\"x\":0.05},\"mapbox\":{\"style\":\"light\"}}},\"legend\":{\"tracegroupgap\":0},\"margin\":{\"t\":60}},                        {\"responsive\": true}                    ).then(function(){\n",
       "                            \n",
       "var gd = document.getElementById('d20c37c6-49d6-4f76-84e8-8758f4b425b5');\n",
       "var x = new MutationObserver(function (mutations, observer) {{\n",
       "        var display = window.getComputedStyle(gd).display;\n",
       "        if (!display || display === 'none') {{\n",
       "            console.log([gd, 'removed!']);\n",
       "            Plotly.purge(gd);\n",
       "            observer.disconnect();\n",
       "        }}\n",
       "}});\n",
       "\n",
       "// Listen for the removal of the full notebook cells\n",
       "var notebookContainer = gd.closest('#notebook-container');\n",
       "if (notebookContainer) {{\n",
       "    x.observe(notebookContainer, {childList: true});\n",
       "}}\n",
       "\n",
       "// Listen for the clearing of the current output cell\n",
       "var outputEl = gd.closest('.output');\n",
       "if (outputEl) {{\n",
       "    x.observe(outputEl, {childList: true});\n",
       "}}\n",
       "\n",
       "                        })                };                });            </script>        </div>"
      ]
     },
     "metadata": {},
     "output_type": "display_data"
    }
   ],
   "source": [
    "dff = pd.DataFrame(dff.groupby(\"Pays\")[\"price_norm\"].mean().sort_values(ascending=True).tail(6))\n",
    "px.pie(dff, names=dff.index, values=\"price_norm\")"
   ]
  },
  {
   "cell_type": "code",
   "execution_count": 17,
   "id": "f7b60f2b-658a-49ab-8533-80e839dfa1d5",
   "metadata": {},
   "outputs": [
    {
     "data": {
      "text/plain": [
       "Index(['Physical Losses', 'Insect pest damage',\n",
       "       'main causes of this were a mismatch in supply and demand or cosmetic and quality related',\n",
       "       'Mechanical Damage', 'Decay'],\n",
       "      dtype='object')"
      ]
     },
     "execution_count": 17,
     "metadata": {},
     "output_type": "execute_result"
    }
   ],
   "source": [
    "mdt[\"cause_of_loss\"].value_counts().head(5).keys()"
   ]
  },
  {
   "cell_type": "code",
   "execution_count": 19,
   "id": "056711a8-3d0a-455e-a9b3-ffb1a1487c35",
   "metadata": {},
   "outputs": [
    {
     "data": {
      "text/plain": [
       "array([86, 54, 41, 34, 26], dtype=int64)"
      ]
     },
     "execution_count": 19,
     "metadata": {},
     "output_type": "execute_result"
    }
   ],
   "source": [
    "mdt[\"cause_of_loss\"].value_counts().head(5).values"
   ]
  },
  {
   "cell_type": "code",
   "execution_count": 29,
   "id": "a3d304b4-32c5-400f-9fb6-ef745a6c109d",
   "metadata": {},
   "outputs": [
    {
     "data": {
      "text/html": [
       "<div><div id=51c80549-5c0f-4c19-8a7c-84abbea38ff9 style=\"display:none; background-color:#9D6CFF; color:white; width:200px; height:30px; padding-left:5px; border-radius:4px; flex-direction:row; justify-content:space-around; align-items:center;\" onmouseover=\"this.style.backgroundColor='#BA9BF8'\" onmouseout=\"this.style.backgroundColor='#9D6CFF'\" onclick=\"window.commands?.execute('create-mitosheet-from-dataframe-output');\">See Full Dataframe in Mito</div> <script> if (window.commands?.hasCommand('create-mitosheet-from-dataframe-output')) document.getElementById('51c80549-5c0f-4c19-8a7c-84abbea38ff9').style.display = 'flex' </script> <table border=\"1\" class=\"dataframe\">\n",
       "  <thead>\n",
       "    <tr style=\"text-align: right;\">\n",
       "      <th></th>\n",
       "      <th>pays</th>\n",
       "      <th>commodity</th>\n",
       "      <th>produits</th>\n",
       "      <th>annee</th>\n",
       "      <th>perte_pourcentage</th>\n",
       "      <th>activity</th>\n",
       "      <th>food_supply_stage</th>\n",
       "      <th>treatment</th>\n",
       "      <th>cause_of_loss</th>\n",
       "    </tr>\n",
       "  </thead>\n",
       "  <tbody>\n",
       "    <tr>\n",
       "      <th>7034</th>\n",
       "      <td>Australia</td>\n",
       "      <td>Cauliflowers and broccoli</td>\n",
       "      <td>fruits et légumes</td>\n",
       "      <td>2013</td>\n",
       "      <td>65.00</td>\n",
       "      <td>Processing</td>\n",
       "      <td>Processing</td>\n",
       "      <td>Broccoli</td>\n",
       "      <td>NaN</td>\n",
       "    </tr>\n",
       "    <tr>\n",
       "      <th>19703</th>\n",
       "      <td>United States of America</td>\n",
       "      <td>Papayas</td>\n",
       "      <td>fruits et légumes</td>\n",
       "      <td>2008</td>\n",
       "      <td>64.00</td>\n",
       "      <td>Consumption, Retailing</td>\n",
       "      <td>Households</td>\n",
       "      <td>NaN</td>\n",
       "      <td>NaN</td>\n",
       "    </tr>\n",
       "    <tr>\n",
       "      <th>18658</th>\n",
       "      <td>United Republic of Tanzania</td>\n",
       "      <td>Mangoes, guavas and mangosteens</td>\n",
       "      <td>fruits et légumes</td>\n",
       "      <td>2013</td>\n",
       "      <td>63.00</td>\n",
       "      <td>NaN</td>\n",
       "      <td>Trader</td>\n",
       "      <td>NaN</td>\n",
       "      <td>Rotting</td>\n",
       "    </tr>\n",
       "    <tr>\n",
       "      <th>19263</th>\n",
       "      <td>United States of America</td>\n",
       "      <td>Carrots and turnips</td>\n",
       "      <td>fruits et légumes</td>\n",
       "      <td>2014</td>\n",
       "      <td>63.00</td>\n",
       "      <td>Retailing</td>\n",
       "      <td>Retail</td>\n",
       "      <td>NaN</td>\n",
       "      <td>NaN</td>\n",
       "    </tr>\n",
       "    <tr>\n",
       "      <th>18981</th>\n",
       "      <td>United States of America</td>\n",
       "      <td>Carrots and turnips</td>\n",
       "      <td>fruits et légumes</td>\n",
       "      <td>2018</td>\n",
       "      <td>62.90</td>\n",
       "      <td>Retailing</td>\n",
       "      <td>Retail</td>\n",
       "      <td>Turnips</td>\n",
       "      <td>NaN</td>\n",
       "    </tr>\n",
       "    <tr>\n",
       "      <th>6563</th>\n",
       "      <td>India</td>\n",
       "      <td>Eggplants (aubergines)</td>\n",
       "      <td>fruits et légumes</td>\n",
       "      <td>2010</td>\n",
       "      <td>62.50</td>\n",
       "      <td>NaN</td>\n",
       "      <td>Harvest</td>\n",
       "      <td>NaN</td>\n",
       "      <td>NaN</td>\n",
       "    </tr>\n",
       "    <tr>\n",
       "      <th>19009</th>\n",
       "      <td>United States of America</td>\n",
       "      <td>Mustard seed</td>\n",
       "      <td>Micro nutrition</td>\n",
       "      <td>2018</td>\n",
       "      <td>61.10</td>\n",
       "      <td>Retailing</td>\n",
       "      <td>Retail</td>\n",
       "      <td>Escarole/endive</td>\n",
       "      <td>NaN</td>\n",
       "    </tr>\n",
       "    <tr>\n",
       "      <th>19948</th>\n",
       "      <td>United States of America</td>\n",
       "      <td>Mustard seed</td>\n",
       "      <td>Micro nutrition</td>\n",
       "      <td>2006</td>\n",
       "      <td>60.70</td>\n",
       "      <td>NaN</td>\n",
       "      <td>Retail</td>\n",
       "      <td>NaN</td>\n",
       "      <td>NaN</td>\n",
       "    </tr>\n",
       "    <tr>\n",
       "      <th>15223</th>\n",
       "      <td>Viet Nam</td>\n",
       "      <td>Rice</td>\n",
       "      <td>Féculents</td>\n",
       "      <td>2013</td>\n",
       "      <td>60.00</td>\n",
       "      <td>Storage</td>\n",
       "      <td>Storage</td>\n",
       "      <td>Extreme conditions</td>\n",
       "      <td>NaN</td>\n",
       "    </tr>\n",
       "    <tr>\n",
       "      <th>17578</th>\n",
       "      <td>Uganda</td>\n",
       "      <td>Maize (corn)</td>\n",
       "      <td>Féculents</td>\n",
       "      <td>2017</td>\n",
       "      <td>59.48</td>\n",
       "      <td>NaN</td>\n",
       "      <td>Storage</td>\n",
       "      <td>Traditional storage</td>\n",
       "      <td>NaN</td>\n",
       "    </tr>\n",
       "  </tbody>\n",
       "</table></div>"
      ],
      "text/plain": [
       "                              pays                        commodity  \\\n",
       "7034                     Australia        Cauliflowers and broccoli   \n",
       "19703     United States of America                          Papayas   \n",
       "18658  United Republic of Tanzania  Mangoes, guavas and mangosteens   \n",
       "19263     United States of America              Carrots and turnips   \n",
       "18981     United States of America              Carrots and turnips   \n",
       "6563                         India           Eggplants (aubergines)   \n",
       "19009     United States of America                     Mustard seed   \n",
       "19948     United States of America                     Mustard seed   \n",
       "15223                     Viet Nam                             Rice   \n",
       "17578                       Uganda                     Maize (corn)   \n",
       "\n",
       "                produits  annee  perte_pourcentage                activity  \\\n",
       "7034   fruits et légumes   2013              65.00              Processing   \n",
       "19703  fruits et légumes   2008              64.00  Consumption, Retailing   \n",
       "18658  fruits et légumes   2013              63.00                     NaN   \n",
       "19263  fruits et légumes   2014              63.00               Retailing   \n",
       "18981  fruits et légumes   2018              62.90               Retailing   \n",
       "6563   fruits et légumes   2010              62.50                     NaN   \n",
       "19009    Micro nutrition   2018              61.10               Retailing   \n",
       "19948    Micro nutrition   2006              60.70                     NaN   \n",
       "15223          Féculents   2013              60.00                 Storage   \n",
       "17578          Féculents   2017              59.48                     NaN   \n",
       "\n",
       "      food_supply_stage            treatment cause_of_loss  \n",
       "7034         Processing             Broccoli           NaN  \n",
       "19703        Households                  NaN           NaN  \n",
       "18658            Trader                  NaN       Rotting  \n",
       "19263            Retail                  NaN           NaN  \n",
       "18981            Retail              Turnips           NaN  \n",
       "6563            Harvest                  NaN           NaN  \n",
       "19009            Retail      Escarole/endive           NaN  \n",
       "19948            Retail                  NaN           NaN  \n",
       "15223           Storage   Extreme conditions           NaN  \n",
       "17578           Storage  Traditional storage           NaN  "
      ]
     },
     "execution_count": 29,
     "metadata": {},
     "output_type": "execute_result"
    }
   ],
   "source": [
    "mdt.loc[mdt[\"perte_pourcentage\"].sort_values(ascending=False).head(10).index, :]"
   ]
  },
  {
   "cell_type": "code",
   "execution_count": 31,
   "id": "1d725a6e-28e4-4462-b3f8-e5b8e3b2fa55",
   "metadata": {},
   "outputs": [
    {
     "data": {
      "text/plain": [
       "Féculents               15100\n",
       "fruits et légumes        3554\n",
       "Céréales                  954\n",
       "Légumineuses              464\n",
       "Huile et oléagineaux      191\n",
       "tubercules                185\n",
       "Elevage et viande         164\n",
       "Lait                      150\n",
       "Micro nutrition           149\n",
       "œufs                      147\n",
       "sucre                      94\n",
       "boissons                   78\n",
       "céréales                   69\n",
       "Produis laitiers           25\n",
       "Name: produits, dtype: int64"
      ]
     },
     "execution_count": 31,
     "metadata": {},
     "output_type": "execute_result"
    }
   ],
   "source": [
    "mdt[\"produits\"].value_counts()"
   ]
  },
  {
   "cell_type": "code",
   "execution_count": 33,
   "id": "7d778eae-9d06-4874-9e23-c5b98453f41f",
   "metadata": {},
   "outputs": [
    {
     "data": {
      "text/plain": [
       "array(['Whole supply chain', 'Farm', 'Harvest', 'Storage', 'Processing',\n",
       "       'Trader', 'Retail', 'Wholesale', 'Post-harvest', 'Households',\n",
       "       'Pre-harvest', 'Food Services', 'Transport', 'Export', nan,\n",
       "       'Distribution', 'Market', 'Stacking', 'Grading', 'Packing'],\n",
       "      dtype=object)"
      ]
     },
     "execution_count": 33,
     "metadata": {},
     "output_type": "execute_result"
    }
   ],
   "source": [
    "mdt[\"food_supply_stage\"].unique()"
   ]
  },
  {
   "cell_type": "code",
   "execution_count": 53,
   "id": "7b4ad39e-53d4-4c26-a82c-ec1ba8b31e75",
   "metadata": {},
   "outputs": [
    {
     "data": {
      "text/plain": [
       "Index(['Unnamed: 0', 'pays', 'commodity', 'produits', 'annee',\n",
       "       'perte_pourcentage', 'activity', 'food_supply_stage', 'treatment',\n",
       "       'cause_of_loss'],\n",
       "      dtype='object')"
      ]
     },
     "execution_count": 53,
     "metadata": {},
     "output_type": "execute_result"
    }
   ],
   "source": [
    "df.columns"
   ]
  },
  {
   "cell_type": "code",
   "execution_count": 52,
   "id": "af40305b-d194-4382-ba15-4577b1386838",
   "metadata": {},
   "outputs": [
    {
     "data": {
      "application/vnd.plotly.v1+json": {
       "config": {
        "plotlyServerURL": "https://plot.ly"
       },
       "data": [
        {
         "alignmentgroup": "True",
         "hovertemplate": "x=%{x}<br>y=%{y}<extra></extra>",
         "legendgroup": "",
         "marker": {
          "color": "#636efa",
          "pattern": {
           "shape": ""
          }
         },
         "name": "",
         "offsetgroup": "",
         "orientation": "v",
         "showlegend": false,
         "textposition": "auto",
         "type": "bar",
         "x": [
          "Physical Losses",
          "Insect pest damage",
          "main causes of this were a mismatch in supply and demand or cosmetic and quality related",
          "Mechanical Damage",
          "Decay"
         ],
         "xaxis": "x",
         "y": [
          86,
          54,
          41,
          34,
          26
         ],
         "yaxis": "y"
        }
       ],
       "layout": {
        "barmode": "relative",
        "height": 1000,
        "legend": {
         "tracegroupgap": 0
        },
        "margin": {
         "t": 60
        },
        "template": {
         "data": {
          "bar": [
           {
            "error_x": {
             "color": "#2a3f5f"
            },
            "error_y": {
             "color": "#2a3f5f"
            },
            "marker": {
             "line": {
              "color": "#E5ECF6",
              "width": 0.5
             },
             "pattern": {
              "fillmode": "overlay",
              "size": 10,
              "solidity": 0.2
             }
            },
            "type": "bar"
           }
          ],
          "barpolar": [
           {
            "marker": {
             "line": {
              "color": "#E5ECF6",
              "width": 0.5
             },
             "pattern": {
              "fillmode": "overlay",
              "size": 10,
              "solidity": 0.2
             }
            },
            "type": "barpolar"
           }
          ],
          "carpet": [
           {
            "aaxis": {
             "endlinecolor": "#2a3f5f",
             "gridcolor": "white",
             "linecolor": "white",
             "minorgridcolor": "white",
             "startlinecolor": "#2a3f5f"
            },
            "baxis": {
             "endlinecolor": "#2a3f5f",
             "gridcolor": "white",
             "linecolor": "white",
             "minorgridcolor": "white",
             "startlinecolor": "#2a3f5f"
            },
            "type": "carpet"
           }
          ],
          "choropleth": [
           {
            "colorbar": {
             "outlinewidth": 0,
             "ticks": ""
            },
            "type": "choropleth"
           }
          ],
          "contour": [
           {
            "colorbar": {
             "outlinewidth": 0,
             "ticks": ""
            },
            "colorscale": [
             [
              0,
              "#0d0887"
             ],
             [
              0.1111111111111111,
              "#46039f"
             ],
             [
              0.2222222222222222,
              "#7201a8"
             ],
             [
              0.3333333333333333,
              "#9c179e"
             ],
             [
              0.4444444444444444,
              "#bd3786"
             ],
             [
              0.5555555555555556,
              "#d8576b"
             ],
             [
              0.6666666666666666,
              "#ed7953"
             ],
             [
              0.7777777777777778,
              "#fb9f3a"
             ],
             [
              0.8888888888888888,
              "#fdca26"
             ],
             [
              1,
              "#f0f921"
             ]
            ],
            "type": "contour"
           }
          ],
          "contourcarpet": [
           {
            "colorbar": {
             "outlinewidth": 0,
             "ticks": ""
            },
            "type": "contourcarpet"
           }
          ],
          "heatmap": [
           {
            "colorbar": {
             "outlinewidth": 0,
             "ticks": ""
            },
            "colorscale": [
             [
              0,
              "#0d0887"
             ],
             [
              0.1111111111111111,
              "#46039f"
             ],
             [
              0.2222222222222222,
              "#7201a8"
             ],
             [
              0.3333333333333333,
              "#9c179e"
             ],
             [
              0.4444444444444444,
              "#bd3786"
             ],
             [
              0.5555555555555556,
              "#d8576b"
             ],
             [
              0.6666666666666666,
              "#ed7953"
             ],
             [
              0.7777777777777778,
              "#fb9f3a"
             ],
             [
              0.8888888888888888,
              "#fdca26"
             ],
             [
              1,
              "#f0f921"
             ]
            ],
            "type": "heatmap"
           }
          ],
          "heatmapgl": [
           {
            "colorbar": {
             "outlinewidth": 0,
             "ticks": ""
            },
            "colorscale": [
             [
              0,
              "#0d0887"
             ],
             [
              0.1111111111111111,
              "#46039f"
             ],
             [
              0.2222222222222222,
              "#7201a8"
             ],
             [
              0.3333333333333333,
              "#9c179e"
             ],
             [
              0.4444444444444444,
              "#bd3786"
             ],
             [
              0.5555555555555556,
              "#d8576b"
             ],
             [
              0.6666666666666666,
              "#ed7953"
             ],
             [
              0.7777777777777778,
              "#fb9f3a"
             ],
             [
              0.8888888888888888,
              "#fdca26"
             ],
             [
              1,
              "#f0f921"
             ]
            ],
            "type": "heatmapgl"
           }
          ],
          "histogram": [
           {
            "marker": {
             "pattern": {
              "fillmode": "overlay",
              "size": 10,
              "solidity": 0.2
             }
            },
            "type": "histogram"
           }
          ],
          "histogram2d": [
           {
            "colorbar": {
             "outlinewidth": 0,
             "ticks": ""
            },
            "colorscale": [
             [
              0,
              "#0d0887"
             ],
             [
              0.1111111111111111,
              "#46039f"
             ],
             [
              0.2222222222222222,
              "#7201a8"
             ],
             [
              0.3333333333333333,
              "#9c179e"
             ],
             [
              0.4444444444444444,
              "#bd3786"
             ],
             [
              0.5555555555555556,
              "#d8576b"
             ],
             [
              0.6666666666666666,
              "#ed7953"
             ],
             [
              0.7777777777777778,
              "#fb9f3a"
             ],
             [
              0.8888888888888888,
              "#fdca26"
             ],
             [
              1,
              "#f0f921"
             ]
            ],
            "type": "histogram2d"
           }
          ],
          "histogram2dcontour": [
           {
            "colorbar": {
             "outlinewidth": 0,
             "ticks": ""
            },
            "colorscale": [
             [
              0,
              "#0d0887"
             ],
             [
              0.1111111111111111,
              "#46039f"
             ],
             [
              0.2222222222222222,
              "#7201a8"
             ],
             [
              0.3333333333333333,
              "#9c179e"
             ],
             [
              0.4444444444444444,
              "#bd3786"
             ],
             [
              0.5555555555555556,
              "#d8576b"
             ],
             [
              0.6666666666666666,
              "#ed7953"
             ],
             [
              0.7777777777777778,
              "#fb9f3a"
             ],
             [
              0.8888888888888888,
              "#fdca26"
             ],
             [
              1,
              "#f0f921"
             ]
            ],
            "type": "histogram2dcontour"
           }
          ],
          "mesh3d": [
           {
            "colorbar": {
             "outlinewidth": 0,
             "ticks": ""
            },
            "type": "mesh3d"
           }
          ],
          "parcoords": [
           {
            "line": {
             "colorbar": {
              "outlinewidth": 0,
              "ticks": ""
             }
            },
            "type": "parcoords"
           }
          ],
          "pie": [
           {
            "automargin": true,
            "type": "pie"
           }
          ],
          "scatter": [
           {
            "fillpattern": {
             "fillmode": "overlay",
             "size": 10,
             "solidity": 0.2
            },
            "type": "scatter"
           }
          ],
          "scatter3d": [
           {
            "line": {
             "colorbar": {
              "outlinewidth": 0,
              "ticks": ""
             }
            },
            "marker": {
             "colorbar": {
              "outlinewidth": 0,
              "ticks": ""
             }
            },
            "type": "scatter3d"
           }
          ],
          "scattercarpet": [
           {
            "marker": {
             "colorbar": {
              "outlinewidth": 0,
              "ticks": ""
             }
            },
            "type": "scattercarpet"
           }
          ],
          "scattergeo": [
           {
            "marker": {
             "colorbar": {
              "outlinewidth": 0,
              "ticks": ""
             }
            },
            "type": "scattergeo"
           }
          ],
          "scattergl": [
           {
            "marker": {
             "colorbar": {
              "outlinewidth": 0,
              "ticks": ""
             }
            },
            "type": "scattergl"
           }
          ],
          "scattermapbox": [
           {
            "marker": {
             "colorbar": {
              "outlinewidth": 0,
              "ticks": ""
             }
            },
            "type": "scattermapbox"
           }
          ],
          "scatterpolar": [
           {
            "marker": {
             "colorbar": {
              "outlinewidth": 0,
              "ticks": ""
             }
            },
            "type": "scatterpolar"
           }
          ],
          "scatterpolargl": [
           {
            "marker": {
             "colorbar": {
              "outlinewidth": 0,
              "ticks": ""
             }
            },
            "type": "scatterpolargl"
           }
          ],
          "scatterternary": [
           {
            "marker": {
             "colorbar": {
              "outlinewidth": 0,
              "ticks": ""
             }
            },
            "type": "scatterternary"
           }
          ],
          "surface": [
           {
            "colorbar": {
             "outlinewidth": 0,
             "ticks": ""
            },
            "colorscale": [
             [
              0,
              "#0d0887"
             ],
             [
              0.1111111111111111,
              "#46039f"
             ],
             [
              0.2222222222222222,
              "#7201a8"
             ],
             [
              0.3333333333333333,
              "#9c179e"
             ],
             [
              0.4444444444444444,
              "#bd3786"
             ],
             [
              0.5555555555555556,
              "#d8576b"
             ],
             [
              0.6666666666666666,
              "#ed7953"
             ],
             [
              0.7777777777777778,
              "#fb9f3a"
             ],
             [
              0.8888888888888888,
              "#fdca26"
             ],
             [
              1,
              "#f0f921"
             ]
            ],
            "type": "surface"
           }
          ],
          "table": [
           {
            "cells": {
             "fill": {
              "color": "#EBF0F8"
             },
             "line": {
              "color": "white"
             }
            },
            "header": {
             "fill": {
              "color": "#C8D4E3"
             },
             "line": {
              "color": "white"
             }
            },
            "type": "table"
           }
          ]
         },
         "layout": {
          "annotationdefaults": {
           "arrowcolor": "#2a3f5f",
           "arrowhead": 0,
           "arrowwidth": 1
          },
          "autotypenumbers": "strict",
          "coloraxis": {
           "colorbar": {
            "outlinewidth": 0,
            "ticks": ""
           }
          },
          "colorscale": {
           "diverging": [
            [
             0,
             "#8e0152"
            ],
            [
             0.1,
             "#c51b7d"
            ],
            [
             0.2,
             "#de77ae"
            ],
            [
             0.3,
             "#f1b6da"
            ],
            [
             0.4,
             "#fde0ef"
            ],
            [
             0.5,
             "#f7f7f7"
            ],
            [
             0.6,
             "#e6f5d0"
            ],
            [
             0.7,
             "#b8e186"
            ],
            [
             0.8,
             "#7fbc41"
            ],
            [
             0.9,
             "#4d9221"
            ],
            [
             1,
             "#276419"
            ]
           ],
           "sequential": [
            [
             0,
             "#0d0887"
            ],
            [
             0.1111111111111111,
             "#46039f"
            ],
            [
             0.2222222222222222,
             "#7201a8"
            ],
            [
             0.3333333333333333,
             "#9c179e"
            ],
            [
             0.4444444444444444,
             "#bd3786"
            ],
            [
             0.5555555555555556,
             "#d8576b"
            ],
            [
             0.6666666666666666,
             "#ed7953"
            ],
            [
             0.7777777777777778,
             "#fb9f3a"
            ],
            [
             0.8888888888888888,
             "#fdca26"
            ],
            [
             1,
             "#f0f921"
            ]
           ],
           "sequentialminus": [
            [
             0,
             "#0d0887"
            ],
            [
             0.1111111111111111,
             "#46039f"
            ],
            [
             0.2222222222222222,
             "#7201a8"
            ],
            [
             0.3333333333333333,
             "#9c179e"
            ],
            [
             0.4444444444444444,
             "#bd3786"
            ],
            [
             0.5555555555555556,
             "#d8576b"
            ],
            [
             0.6666666666666666,
             "#ed7953"
            ],
            [
             0.7777777777777778,
             "#fb9f3a"
            ],
            [
             0.8888888888888888,
             "#fdca26"
            ],
            [
             1,
             "#f0f921"
            ]
           ]
          },
          "colorway": [
           "#636efa",
           "#EF553B",
           "#00cc96",
           "#ab63fa",
           "#FFA15A",
           "#19d3f3",
           "#FF6692",
           "#B6E880",
           "#FF97FF",
           "#FECB52"
          ],
          "font": {
           "color": "#2a3f5f"
          },
          "geo": {
           "bgcolor": "white",
           "lakecolor": "white",
           "landcolor": "#E5ECF6",
           "showlakes": true,
           "showland": true,
           "subunitcolor": "white"
          },
          "hoverlabel": {
           "align": "left"
          },
          "hovermode": "closest",
          "mapbox": {
           "style": "light"
          },
          "paper_bgcolor": "white",
          "plot_bgcolor": "#E5ECF6",
          "polar": {
           "angularaxis": {
            "gridcolor": "white",
            "linecolor": "white",
            "ticks": ""
           },
           "bgcolor": "#E5ECF6",
           "radialaxis": {
            "gridcolor": "white",
            "linecolor": "white",
            "ticks": ""
           }
          },
          "scene": {
           "xaxis": {
            "backgroundcolor": "#E5ECF6",
            "gridcolor": "white",
            "gridwidth": 2,
            "linecolor": "white",
            "showbackground": true,
            "ticks": "",
            "zerolinecolor": "white"
           },
           "yaxis": {
            "backgroundcolor": "#E5ECF6",
            "gridcolor": "white",
            "gridwidth": 2,
            "linecolor": "white",
            "showbackground": true,
            "ticks": "",
            "zerolinecolor": "white"
           },
           "zaxis": {
            "backgroundcolor": "#E5ECF6",
            "gridcolor": "white",
            "gridwidth": 2,
            "linecolor": "white",
            "showbackground": true,
            "ticks": "",
            "zerolinecolor": "white"
           }
          },
          "shapedefaults": {
           "line": {
            "color": "#2a3f5f"
           }
          },
          "ternary": {
           "aaxis": {
            "gridcolor": "white",
            "linecolor": "white",
            "ticks": ""
           },
           "baxis": {
            "gridcolor": "white",
            "linecolor": "white",
            "ticks": ""
           },
           "bgcolor": "#E5ECF6",
           "caxis": {
            "gridcolor": "white",
            "linecolor": "white",
            "ticks": ""
           }
          },
          "title": {
           "x": 0.05
          },
          "xaxis": {
           "automargin": true,
           "gridcolor": "white",
           "linecolor": "white",
           "ticks": "",
           "title": {
            "standoff": 15
           },
           "zerolinecolor": "white",
           "zerolinewidth": 2
          },
          "yaxis": {
           "automargin": true,
           "gridcolor": "white",
           "linecolor": "white",
           "ticks": "",
           "title": {
            "standoff": 15
           },
           "zerolinecolor": "white",
           "zerolinewidth": 2
          }
         }
        },
        "width": 600,
        "xaxis": {
         "anchor": "y",
         "autorange": true,
         "domain": [
          0,
          1
         ],
         "range": [
          -0.5,
          4.5
         ],
         "title": {
          "text": "Causes"
         },
         "type": "category"
        },
        "yaxis": {
         "anchor": "x",
         "autorange": true,
         "domain": [
          0,
          1
         ],
         "range": [
          0,
          90.52631578947368
         ],
         "title": {
          "text": "Pertes (%)"
         },
         "type": "linear"
        }
       }
      },
      "image/png": "[encoded data removed]",
      "text/html": [
       "<div>                            <div id=\"eab02159-f348-4304-a04d-fa4e234ac163\" class=\"plotly-graph-div\" style=\"height:1000px; width:600px;\"></div>            <script type=\"text/javascript\">                require([\"plotly\"], function(Plotly) {                    window.PLOTLYENV=window.PLOTLYENV || {};                                    if (document.getElementById(\"eab02159-f348-4304-a04d-fa4e234ac163\")) {                    Plotly.newPlot(                        \"eab02159-f348-4304-a04d-fa4e234ac163\",                        [{\"alignmentgroup\":\"True\",\"hovertemplate\":\"x=%{x}<br>y=%{y}<extra></extra>\",\"legendgroup\":\"\",\"marker\":{\"color\":\"#636efa\",\"pattern\":{\"shape\":\"\"}},\"name\":\"\",\"offsetgroup\":\"\",\"orientation\":\"v\",\"showlegend\":false,\"textposition\":\"auto\",\"x\":[\"Physical Losses\",\"Insect pest damage\",\"main causes of this were a mismatch in supply and demand or cosmetic and quality related\",\"Mechanical Damage\",\"Decay\"],\"xaxis\":\"x\",\"y\":[86,54,41,34,26],\"yaxis\":\"y\",\"type\":\"bar\"}],                        {\"template\":{\"data\":{\"histogram2dcontour\":[{\"type\":\"histogram2dcontour\",\"colorbar\":{\"outlinewidth\":0,\"ticks\":\"\"},\"colorscale\":[[0.0,\"#0d0887\"],[0.1111111111111111,\"#46039f\"],[0.2222222222222222,\"#7201a8\"],[0.3333333333333333,\"#9c179e\"],[0.4444444444444444,\"#bd3786\"],[0.5555555555555556,\"#d8576b\"],[0.6666666666666666,\"#ed7953\"],[0.7777777777777778,\"#fb9f3a\"],[0.8888888888888888,\"#fdca26\"],[1.0,\"#f0f921\"]]}],\"choropleth\":[{\"type\":\"choropleth\",\"colorbar\":{\"outlinewidth\":0,\"ticks\":\"\"}}],\"histogram2d\":[{\"type\":\"histogram2d\",\"colorbar\":{\"outlinewidth\":0,\"ticks\":\"\"},\"colorscale\":[[0.0,\"#0d0887\"],[0.1111111111111111,\"#46039f\"],[0.2222222222222222,\"#7201a8\"],[0.3333333333333333,\"#9c179e\"],[0.4444444444444444,\"#bd3786\"],[0.5555555555555556,\"#d8576b\"],[0.6666666666666666,\"#ed7953\"],[0.7777777777777778,\"#fb9f3a\"],[0.8888888888888888,\"#fdca26\"],[1.0,\"#f0f921\"]]}],\"heatmap\":[{\"type\":\"heatmap\",\"colorbar\":{\"outlinewidth\":0,\"ticks\":\"\"},\"colorscale\":[[0.0,\"#0d0887\"],[0.1111111111111111,\"#46039f\"],[0.2222222222222222,\"#7201a8\"],[0.3333333333333333,\"#9c179e\"],[0.4444444444444444,\"#bd3786\"],[0.5555555555555556,\"#d8576b\"],[0.6666666666666666,\"#ed7953\"],[0.7777777777777778,\"#fb9f3a\"],[0.8888888888888888,\"#fdca26\"],[1.0,\"#f0f921\"]]}],\"heatmapgl\":[{\"type\":\"heatmapgl\",\"colorbar\":{\"outlinewidth\":0,\"ticks\":\"\"},\"colorscale\":[[0.0,\"#0d0887\"],[0.1111111111111111,\"#46039f\"],[0.2222222222222222,\"#7201a8\"],[0.3333333333333333,\"#9c179e\"],[0.4444444444444444,\"#bd3786\"],[0.5555555555555556,\"#d8576b\"],[0.6666666666666666,\"#ed7953\"],[0.7777777777777778,\"#fb9f3a\"],[0.8888888888888888,\"#fdca26\"],[1.0,\"#f0f921\"]]}],\"contourcarpet\":[{\"type\":\"contourcarpet\",\"colorbar\":{\"outlinewidth\":0,\"ticks\":\"\"}}],\"contour\":[{\"type\":\"contour\",\"colorbar\":{\"outlinewidth\":0,\"ticks\":\"\"},\"colorscale\":[[0.0,\"#0d0887\"],[0.1111111111111111,\"#46039f\"],[0.2222222222222222,\"#7201a8\"],[0.3333333333333333,\"#9c179e\"],[0.4444444444444444,\"#bd3786\"],[0.5555555555555556,\"#d8576b\"],[0.6666666666666666,\"#ed7953\"],[0.7777777777777778,\"#fb9f3a\"],[0.8888888888888888,\"#fdca26\"],[1.0,\"#f0f921\"]]}],\"surface\":[{\"type\":\"surface\",\"colorbar\":{\"outlinewidth\":0,\"ticks\":\"\"},\"colorscale\":[[0.0,\"#0d0887\"],[0.1111111111111111,\"#46039f\"],[0.2222222222222222,\"#7201a8\"],[0.3333333333333333,\"#9c179e\"],[0.4444444444444444,\"#bd3786\"],[0.5555555555555556,\"#d8576b\"],[0.6666666666666666,\"#ed7953\"],[0.7777777777777778,\"#fb9f3a\"],[0.8888888888888888,\"#fdca26\"],[1.0,\"#f0f921\"]]}],\"mesh3d\":[{\"type\":\"mesh3d\",\"colorbar\":{\"outlinewidth\":0,\"ticks\":\"\"}}],\"scatter\":[{\"fillpattern\":{\"fillmode\":\"overlay\",\"size\":10,\"solidity\":0.2},\"type\":\"scatter\"}],\"parcoords\":[{\"type\":\"parcoords\",\"line\":{\"colorbar\":{\"outlinewidth\":0,\"ticks\":\"\"}}}],\"scatterpolargl\":[{\"type\":\"scatterpolargl\",\"marker\":{\"colorbar\":{\"outlinewidth\":0,\"ticks\":\"\"}}}],\"bar\":[{\"error_x\":{\"color\":\"#2a3f5f\"},\"error_y\":{\"color\":\"#2a3f5f\"},\"marker\":{\"line\":{\"color\":\"#E5ECF6\",\"width\":0.5},\"pattern\":{\"fillmode\":\"overlay\",\"size\":10,\"solidity\":0.2}},\"type\":\"bar\"}],\"scattergeo\":[{\"type\":\"scattergeo\",\"marker\":{\"colorbar\":{\"outlinewidth\":0,\"ticks\":\"\"}}}],\"scatterpolar\":[{\"type\":\"scatterpolar\",\"marker\":{\"colorbar\":{\"outlinewidth\":0,\"ticks\":\"\"}}}],\"histogram\":[{\"marker\":{\"pattern\":{\"fillmode\":\"overlay\",\"size\":10,\"solidity\":0.2}},\"type\":\"histogram\"}],\"scattergl\":[{\"type\":\"scattergl\",\"marker\":{\"colorbar\":{\"outlinewidth\":0,\"ticks\":\"\"}}}],\"scatter3d\":[{\"type\":\"scatter3d\",\"line\":{\"colorbar\":{\"outlinewidth\":0,\"ticks\":\"\"}},\"marker\":{\"colorbar\":{\"outlinewidth\":0,\"ticks\":\"\"}}}],\"scattermapbox\":[{\"type\":\"scattermapbox\",\"marker\":{\"colorbar\":{\"outlinewidth\":0,\"ticks\":\"\"}}}],\"scatterternary\":[{\"type\":\"scatterternary\",\"marker\":{\"colorbar\":{\"outlinewidth\":0,\"ticks\":\"\"}}}],\"scattercarpet\":[{\"type\":\"scattercarpet\",\"marker\":{\"colorbar\":{\"outlinewidth\":0,\"ticks\":\"\"}}}],\"carpet\":[{\"aaxis\":{\"endlinecolor\":\"#2a3f5f\",\"gridcolor\":\"white\",\"linecolor\":\"white\",\"minorgridcolor\":\"white\",\"startlinecolor\":\"#2a3f5f\"},\"baxis\":{\"endlinecolor\":\"#2a3f5f\",\"gridcolor\":\"white\",\"linecolor\":\"white\",\"minorgridcolor\":\"white\",\"startlinecolor\":\"#2a3f5f\"},\"type\":\"carpet\"}],\"table\":[{\"cells\":{\"fill\":{\"color\":\"#EBF0F8\"},\"line\":{\"color\":\"white\"}},\"header\":{\"fill\":{\"color\":\"#C8D4E3\"},\"line\":{\"color\":\"white\"}},\"type\":\"table\"}],\"barpolar\":[{\"marker\":{\"line\":{\"color\":\"#E5ECF6\",\"width\":0.5},\"pattern\":{\"fillmode\":\"overlay\",\"size\":10,\"solidity\":0.2}},\"type\":\"barpolar\"}],\"pie\":[{\"automargin\":true,\"type\":\"pie\"}]},\"layout\":{\"autotypenumbers\":\"strict\",\"colorway\":[\"#636efa\",\"#EF553B\",\"#00cc96\",\"#ab63fa\",\"#FFA15A\",\"#19d3f3\",\"#FF6692\",\"#B6E880\",\"#FF97FF\",\"#FECB52\"],\"font\":{\"color\":\"#2a3f5f\"},\"hovermode\":\"closest\",\"hoverlabel\":{\"align\":\"left\"},\"paper_bgcolor\":\"white\",\"plot_bgcolor\":\"#E5ECF6\",\"polar\":{\"bgcolor\":\"#E5ECF6\",\"angularaxis\":{\"gridcolor\":\"white\",\"linecolor\":\"white\",\"ticks\":\"\"},\"radialaxis\":{\"gridcolor\":\"white\",\"linecolor\":\"white\",\"ticks\":\"\"}},\"ternary\":{\"bgcolor\":\"#E5ECF6\",\"aaxis\":{\"gridcolor\":\"white\",\"linecolor\":\"white\",\"ticks\":\"\"},\"baxis\":{\"gridcolor\":\"white\",\"linecolor\":\"white\",\"ticks\":\"\"},\"caxis\":{\"gridcolor\":\"white\",\"linecolor\":\"white\",\"ticks\":\"\"}},\"coloraxis\":{\"colorbar\":{\"outlinewidth\":0,\"ticks\":\"\"}},\"colorscale\":{\"sequential\":[[0.0,\"#0d0887\"],[0.1111111111111111,\"#46039f\"],[0.2222222222222222,\"#7201a8\"],[0.3333333333333333,\"#9c179e\"],[0.4444444444444444,\"#bd3786\"],[0.5555555555555556,\"#d8576b\"],[0.6666666666666666,\"#ed7953\"],[0.7777777777777778,\"#fb9f3a\"],[0.8888888888888888,\"#fdca26\"],[1.0,\"#f0f921\"]],\"sequentialminus\":[[0.0,\"#0d0887\"],[0.1111111111111111,\"#46039f\"],[0.2222222222222222,\"#7201a8\"],[0.3333333333333333,\"#9c179e\"],[0.4444444444444444,\"#bd3786\"],[0.5555555555555556,\"#d8576b\"],[0.6666666666666666,\"#ed7953\"],[0.7777777777777778,\"#fb9f3a\"],[0.8888888888888888,\"#fdca26\"],[1.0,\"#f0f921\"]],\"diverging\":[[0,\"#8e0152\"],[0.1,\"#c51b7d\"],[0.2,\"#de77ae\"],[0.3,\"#f1b6da\"],[0.4,\"#fde0ef\"],[0.5,\"#f7f7f7\"],[0.6,\"#e6f5d0\"],[0.7,\"#b8e186\"],[0.8,\"#7fbc41\"],[0.9,\"#4d9221\"],[1,\"#276419\"]]},\"xaxis\":{\"gridcolor\":\"white\",\"linecolor\":\"white\",\"ticks\":\"\",\"title\":{\"standoff\":15},\"zerolinecolor\":\"white\",\"automargin\":true,\"zerolinewidth\":2},\"yaxis\":{\"gridcolor\":\"white\",\"linecolor\":\"white\",\"ticks\":\"\",\"title\":{\"standoff\":15},\"zerolinecolor\":\"white\",\"automargin\":true,\"zerolinewidth\":2},\"scene\":{\"xaxis\":{\"backgroundcolor\":\"#E5ECF6\",\"gridcolor\":\"white\",\"linecolor\":\"white\",\"showbackground\":true,\"ticks\":\"\",\"zerolinecolor\":\"white\",\"gridwidth\":2},\"yaxis\":{\"backgroundcolor\":\"#E5ECF6\",\"gridcolor\":\"white\",\"linecolor\":\"white\",\"showbackground\":true,\"ticks\":\"\",\"zerolinecolor\":\"white\",\"gridwidth\":2},\"zaxis\":{\"backgroundcolor\":\"#E5ECF6\",\"gridcolor\":\"white\",\"linecolor\":\"white\",\"showbackground\":true,\"ticks\":\"\",\"zerolinecolor\":\"white\",\"gridwidth\":2}},\"shapedefaults\":{\"line\":{\"color\":\"#2a3f5f\"}},\"annotationdefaults\":{\"arrowcolor\":\"#2a3f5f\",\"arrowhead\":0,\"arrowwidth\":1},\"geo\":{\"bgcolor\":\"white\",\"landcolor\":\"#E5ECF6\",\"subunitcolor\":\"white\",\"showland\":true,\"showlakes\":true,\"lakecolor\":\"white\"},\"title\":{\"x\":0.05},\"mapbox\":{\"style\":\"light\"}}},\"xaxis\":{\"anchor\":\"y\",\"domain\":[0.0,1.0],\"title\":{\"text\":\"Causes\"}},\"yaxis\":{\"anchor\":\"x\",\"domain\":[0.0,1.0],\"title\":{\"text\":\"Pertes (%)\"}},\"legend\":{\"tracegroupgap\":0},\"margin\":{\"t\":60},\"barmode\":\"relative\",\"height\":1000,\"width\":600},                        {\"responsive\": true}                    ).then(function(){\n",
       "                            \n",
       "var gd = document.getElementById('eab02159-f348-4304-a04d-fa4e234ac163');\n",
       "var x = new MutationObserver(function (mutations, observer) {{\n",
       "        var display = window.getComputedStyle(gd).display;\n",
       "        if (!display || display === 'none') {{\n",
       "            console.log([gd, 'removed!']);\n",
       "            Plotly.purge(gd);\n",
       "            observer.disconnect();\n",
       "        }}\n",
       "}});\n",
       "\n",
       "// Listen for the removal of the full notebook cells\n",
       "var notebookContainer = gd.closest('#notebook-container');\n",
       "if (notebookContainer) {{\n",
       "    x.observe(notebookContainer, {childList: true});\n",
       "}}\n",
       "\n",
       "// Listen for the clearing of the current output cell\n",
       "var outputEl = gd.closest('.output');\n",
       "if (outputEl) {{\n",
       "    x.observe(outputEl, {childList: true});\n",
       "}}\n",
       "\n",
       "                        })                };                });            </script>        </div>"
      ]
     },
     "metadata": {},
     "output_type": "display_data"
    }
   ],
   "source": [
    "df = pd.read_csv(\"food_loss_2000-2022.csv\")\n",
    "import plotly.express as px\n",
    "fig_scatter = px.bar(\n",
    "    df,\n",
    "    x=df[\"cause_of_loss\"].value_counts().head(5).keys(),\n",
    "    y=df[\"cause_of_loss\"].value_counts().head(5).values,\n",
    "    orientation='v', width=600, height=1000\n",
    ")\n",
    "\n",
    "fig_scatter.update_layout(\n",
    "    xaxis_title=\"Causes\",\n",
    "    yaxis_title=\"Pertes (%)\",\n",
    "    \n",
    ")"
   ]
  },
  {
   "cell_type": "code",
   "execution_count": null,
   "id": "af09399b-1ee6-4223-946a-578cde60f012",
   "metadata": {},
   "outputs": [],
   "source": []
  }
 ],
 "metadata": {
  "kernelspec": {
   "display_name": "Python 3 (ipykernel)",
   "language": "python",
   "name": "python3"
  },
  "language_info": {
   "codemirror_mode": {
    "name": "ipython",
    "version": 3
   },
   "file_extension": ".py",
   "mimetype": "text/x-python",
   "name": "python",
   "nbconvert_exporter": "python",
   "pygments_lexer": "ipython3",
   "version": "3.11.0"
  }
 },
 "nbformat": 4,
 "nbformat_minor": 5
}
